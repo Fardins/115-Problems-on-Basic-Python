{
 "cells": [
  {
   "cell_type": "markdown",
   "id": "74f05361",
   "metadata": {},
   "source": [
    "# Basic Problems:"
   ]
  },
  {
   "cell_type": "markdown",
   "id": "300deca1",
   "metadata": {},
   "source": [
    "1. Variable Swap: Write a Python program to swap the values of two variables without using a temporary variable."
   ]
  },
  {
   "cell_type": "code",
   "execution_count": 1,
   "id": "0172a691",
   "metadata": {},
   "outputs": [
    {
     "name": "stdout",
     "output_type": "stream",
     "text": [
      "Before swapping: variable1 = 5, variable2 = 10\n",
      "After swapping: variable1 = 10, variable2 = 5\n"
     ]
    }
   ],
   "source": [
    "variable1 = 5\n",
    "variable2 = 10\n",
    "\n",
    "print(f\"Before swapping: variable1 = {variable1}, variable2 = {variable2}\")\n",
    "variable1, variable2 = variable2, variable1\n",
    "print(f\"After swapping: variable1 = {variable1}, variable2 = {variable2}\")"
   ]
  },
  {
   "cell_type": "markdown",
   "id": "cb21f1be",
   "metadata": {},
   "source": [
    "2. Even or Odd: Write a Python program that takes an integer as input and prints whether it is even or odd."
   ]
  },
  {
   "cell_type": "code",
   "execution_count": 2,
   "id": "889ef756",
   "metadata": {},
   "outputs": [
    {
     "name": "stdout",
     "output_type": "stream",
     "text": [
      "Enter an integer: 0\n",
      "0 is an even number.\n"
     ]
    }
   ],
   "source": [
    "user_input = int(input(\"Enter an integer: \"))\n",
    "\n",
    "if user_input % 2 == 0:\n",
    "    print(f\"{user_input} is an even number.\")\n",
    "else:\n",
    "    print(f\"{user_input} is an odd number.\")"
   ]
  },
  {
   "cell_type": "markdown",
   "id": "984eb2a4",
   "metadata": {},
   "source": [
    "3. String Reverse: Write a Python function to reverse a given string and return the reversed string."
   ]
  },
  {
   "cell_type": "code",
   "execution_count": 3,
   "id": "9e2117a9",
   "metadata": {},
   "outputs": [
    {
     "name": "stdout",
     "output_type": "stream",
     "text": [
      "original_string:hello how are you?\n",
      "Reversed string: ?uoy era woh olleh\n"
     ]
    }
   ],
   "source": [
    "def reverse_string(input_string):\n",
    "    reversed_string = input_string[::-1]\n",
    "    return reversed_string\n",
    "\n",
    "original_string = input(\"original_string:\")\n",
    "result = reverse_string(original_string)\n",
    "\n",
    "print(f\"Reversed string: {result}\")"
   ]
  },
  {
   "cell_type": "markdown",
   "id": "f40aff76",
   "metadata": {},
   "source": [
    "4. Type Conversion: Given a list of integers, write a Python program to convert each element of the list to a string."
   ]
  },
  {
   "cell_type": "code",
   "execution_count": 4,
   "id": "32faccfa",
   "metadata": {},
   "outputs": [
    {
     "name": "stdout",
     "output_type": "stream",
     "text": [
      "Original List of Integers: [0, 1, 2, 3, 4, 5, 6, 7, 8, 9]\n",
      "Converted List of Strings: ['0', '1', '2', '3', '4', '5', '6', '7', '8', '9']\n"
     ]
    }
   ],
   "source": [
    "integer_list = [0, 1, 2, 3, 4, 5, 6, 7, 8, 9]\n",
    "\n",
    "string_list = [str(element) for element in integer_list]\n",
    "\n",
    "print(\"Original List of Integers:\", integer_list)\n",
    "print(\"Converted List of Strings:\", string_list)"
   ]
  },
  {
   "cell_type": "markdown",
   "id": "b96f58af",
   "metadata": {},
   "source": [
    "5. Temperature Converter: Write a Python program that converts a temperature in Celsius to Fahrenheit. Take the Celsius temperature as input from the user."
   ]
  },
  {
   "cell_type": "code",
   "execution_count": 5,
   "id": "3b706573",
   "metadata": {},
   "outputs": [
    {
     "name": "stdout",
     "output_type": "stream",
     "text": [
      "Enter the temperature in Celsius: 44\n",
      "44.0 degrees Celsius is equal to: 111.2 degrees Fahrenheit.\n"
     ]
    }
   ],
   "source": [
    "celsius_temperature = float(input(\"Enter the temperature in Celsius: \"))\n",
    "\n",
    "fahrenheit_temperature = (celsius_temperature * 9/5) + 32\n",
    "\n",
    "print(f\"{celsius_temperature} degrees Celsius is equal to: {fahrenheit_temperature} degrees Fahrenheit.\")"
   ]
  },
  {
   "cell_type": "markdown",
   "id": "1a5f008c",
   "metadata": {},
   "source": [
    "6. Data Type Checker: Write a Python function that takes a variable as input and returns the data type of the variable as a string (e.g., “int”, “float”, “str”, “list”, etc.)."
   ]
  },
  {
   "cell_type": "code",
   "execution_count": 6,
   "id": "5f57816a",
   "metadata": {},
   "outputs": [
    {
     "name": "stdout",
     "output_type": "stream",
     "text": [
      "42:int\n",
      "3.14:float\n",
      "Hello, World!:str\n",
      "[1, 2, 3]:list\n"
     ]
    }
   ],
   "source": [
    "def get_data_type(variable):\n",
    "    return str(type(variable).__name__)\n",
    "\n",
    "var1 = 42\n",
    "var2 = 3.14\n",
    "var3 = \"Hello, World!\"\n",
    "var4 = [1, 2, 3]\n",
    "\n",
    "print(f\"{var1}:{get_data_type(var1)}\") \n",
    "print(f\"{var2}:{get_data_type(var2)}\") \n",
    "print(f\"{var3}:{get_data_type(var3)}\") \n",
    "print(f\"{var4}:{get_data_type(var4)}\") "
   ]
  },
  {
   "cell_type": "markdown",
   "id": "553235a3",
   "metadata": {},
   "source": [
    "7. String Palindrome: Write a Python function to check if a given string is a palindrome or not."
   ]
  },
  {
   "cell_type": "code",
   "execution_count": 7,
   "id": "22cc7c1f",
   "metadata": {},
   "outputs": [
    {
     "name": "stdout",
     "output_type": "stream",
     "text": [
      "Enter the string:A man, a plan, a canal: Panama\n",
      "True\n"
     ]
    }
   ],
   "source": [
    "def is_palindrome(input_str):\n",
    "    # Convert the input string to lowercase for case-insensitive comparison\n",
    "    clean_str = input_str.lower()\n",
    "\n",
    "    # Remove non-alphanumeric characters from the string\n",
    "    clean_str = ''.join(char for char in clean_str if char.isalnum())\n",
    "\n",
    "    # Compare the original string with its reverse\n",
    "    return clean_str == clean_str[::-1]\n",
    "\n",
    "Input = input(\"Enter the string:\")\n",
    "\n",
    "print(is_palindrome(Input))"
   ]
  },
  {
   "cell_type": "markdown",
   "id": "24ee09b8",
   "metadata": {},
   "source": [
    "8. String Reversal with Slicing: Write a Python function to reverse a given string using slicing."
   ]
  },
  {
   "cell_type": "code",
   "execution_count": 8,
   "id": "95d784ca",
   "metadata": {},
   "outputs": [
    {
     "name": "stdout",
     "output_type": "stream",
     "text": [
      "Enter original String:hello how are you\n",
      "uoy era woh olleh\n"
     ]
    }
   ],
   "source": [
    "def reverse_string(input_str):\n",
    "    return input_str[::-1]\n",
    "\n",
    "original_str = input(\"Enter original String:\")\n",
    "\n",
    "reversed_str = reverse_string(original_str)\n",
    "print(reversed_str)"
   ]
  },
  {
   "cell_type": "markdown",
   "id": "e06f0fbd",
   "metadata": {},
   "source": [
    "9. String Concatenation: Write a Python program that takes two strings as input and concatenates them into a single string without using the + operator."
   ]
  },
  {
   "cell_type": "code",
   "execution_count": 9,
   "id": "54a2a7b2",
   "metadata": {},
   "outputs": [
    {
     "name": "stdout",
     "output_type": "stream",
     "text": [
      "Enter input-1:hello how are you?\n",
      "Enter input-2:I am fine thank you.\n",
      "hello how are you?I am fine thank you.\n"
     ]
    }
   ],
   "source": [
    "def concatenate_strings(str1, str2):\n",
    "    result = \"{}{}\".format(str1, str2)\n",
    "    return result\n",
    "\n",
    "string1 = input(\"Enter input-1:\")\n",
    "string2 = input(\"Enter input-2:\")\n",
    "\n",
    "concatenated_string = concatenate_strings(string1, string2)\n",
    "print(concatenated_string)"
   ]
  },
  {
   "cell_type": "markdown",
   "id": "beef2544",
   "metadata": {},
   "source": [
    "10. Typecasting Challenge: Given three variables: a = ‘100’, b = 25, and c = ‘10.5’, write a Python program to perform the following operations and print the results: – Convert a to an integer and add it to b. – Convert c to a float and subtract it from the result of the first operation. – Convert the final result to a string and concatenate it with the string ” is the answer.”"
   ]
  },
  {
   "cell_type": "code",
   "execution_count": 10,
   "id": "413625f1",
   "metadata": {},
   "outputs": [
    {
     "name": "stdout",
     "output_type": "stream",
     "text": [
      "Result 1: 125\n",
      "Result 2: 114.5\n",
      "Final Result: 114.5 is the answer.\n"
     ]
    }
   ],
   "source": [
    "a = '100'\n",
    "b = 25\n",
    "c = '10.5'\n",
    "\n",
    "# Convert 'a' to an integer and add it to 'b'\n",
    "result1 = int(a) + b\n",
    "\n",
    "# Convert 'c' to a float and subtract it from the result of the first operation\n",
    "result2 = result1 - float(c)\n",
    "\n",
    "# Convert the final result to a string and concatenate it with the string \" is the answer.\"\n",
    "final_result = str(result2) + \" is the answer.\"\n",
    "\n",
    "print(\"Result 1:\", result1)\n",
    "print(\"Result 2:\", result2)\n",
    "print(\"Final Result:\", final_result)"
   ]
  },
  {
   "cell_type": "markdown",
   "id": "dbd671fd",
   "metadata": {},
   "source": [
    "# Python Conditional Statements:"
   ]
  },
  {
   "cell_type": "markdown",
   "id": "b202f146",
   "metadata": {},
   "source": [
    "11. Positive, Negative, or Zero: Write a Python program that takes a number as input and prints whether it is positive, negative, or zero."
   ]
  },
  {
   "cell_type": "code",
   "execution_count": 11,
   "id": "32d130e8",
   "metadata": {},
   "outputs": [
    {
     "name": "stdout",
     "output_type": "stream",
     "text": [
      "Enter a number: -9\n",
      "-9 is Negative Number\n"
     ]
    }
   ],
   "source": [
    "user_input = int(input(\"Enter a number: \"))\n",
    "\n",
    "if user_input > 0:\n",
    "    print(f\"{user_input} is Positive Number\")\n",
    "elif user_input < 0:\n",
    "    print(f\"{user_input} is Negative Number\")\n",
    "else:\n",
    "    print(f\"{user_input} is Zero\")"
   ]
  },
  {
   "cell_type": "markdown",
   "id": "9fb7c8f5",
   "metadata": {},
   "source": [
    "12. Largest of Three Numbers: Write a Python program that takes three numbers as input and prints the largest among them."
   ]
  },
  {
   "cell_type": "code",
   "execution_count": 12,
   "id": "0c94a708",
   "metadata": {},
   "outputs": [
    {
     "name": "stdout",
     "output_type": "stream",
     "text": [
      "Enter the first number: 22.66\n",
      "Enter the second number: 22.67\n",
      "Enter the third number: 22.667\n",
      "The largest number is: 22.67\n"
     ]
    }
   ],
   "source": [
    "number1 = float(input(\"Enter the first number: \"))\n",
    "number2 = float(input(\"Enter the second number: \"))\n",
    "number3 = float(input(\"Enter the third number: \"))\n",
    "\n",
    "largest = max(number1, number2, number3)\n",
    "print(\"The largest number is:\", largest)"
   ]
  },
  {
   "cell_type": "markdown",
   "id": "4a2eecb4",
   "metadata": {},
   "source": [
    "13. Leap Year Checker: Write a Python program that takes a year as input and determines if it is a leap year or not."
   ]
  },
  {
   "cell_type": "code",
   "execution_count": 13,
   "id": "a4dc4d83",
   "metadata": {},
   "outputs": [
    {
     "name": "stdout",
     "output_type": "stream",
     "text": [
      "Enter a year: 2024\n",
      "2024 is a leap year.\n"
     ]
    }
   ],
   "source": [
    "def is_leap_year(year):\n",
    "    if (year % 4 == 0 and year % 100 != 0) or (year % 400 == 0):\n",
    "        return print(user_input, \"is a leap year.\")\n",
    "    else:\n",
    "        return print(user_input, \"is not a leap year.\")\n",
    "\n",
    "user_input = int(input(\"Enter a year: \"))\n",
    "is_leap_year(user_input)"
   ]
  },
  {
   "cell_type": "markdown",
   "id": "dab6a02d",
   "metadata": {},
   "source": [
    "14. Grades Classification: Write a Python program that takes a student’s percentage as input and prints their corresponding grade according to the following criteria: – 90% or above: A+ – 80-89%: A – 70-79%: B – 60-69%: C – Below 60%: Fail"
   ]
  },
  {
   "cell_type": "code",
   "execution_count": 14,
   "id": "1c6ec572",
   "metadata": {},
   "outputs": [
    {
     "name": "stdout",
     "output_type": "stream",
     "text": [
      "Enter the student's percentage: 88\n",
      "The student's grade is: A\n"
     ]
    }
   ],
   "source": [
    "def calculate_grade(percentage):\n",
    "    if percentage >= 90:\n",
    "        return \"A+\"\n",
    "    elif 80 <= percentage <= 89:\n",
    "        return \"A\"\n",
    "    elif 70 <= percentage <= 79:\n",
    "        return \"B\"\n",
    "    elif 60 <= percentage <= 69:\n",
    "        return \"C\"\n",
    "    else:\n",
    "        return \"Fail\"\n",
    "\n",
    "\n",
    "percentage = float(input(\"Enter the student's percentage: \"))\n",
    "if 0 <= percentage <= 100:\n",
    "    grade = calculate_grade(percentage)\n",
    "    print(f\"The student's grade is: {grade}\")\n",
    "else:\n",
    "    print(\"Invalid percentage! Percentage should be between 0 and 100.\")"
   ]
  },
  {
   "cell_type": "markdown",
   "id": "621b6f5b",
   "metadata": {},
   "source": [
    "15. Vowel or Consonant: Write a Python program that takes a single character as input and determines whether it is a vowel or a consonant."
   ]
  },
  {
   "cell_type": "code",
   "execution_count": 15,
   "id": "96ce0be5",
   "metadata": {},
   "outputs": [
    {
     "name": "stdout",
     "output_type": "stream",
     "text": [
      "Enter a single character: h\n",
      "The character 'h' is a consonant.\n"
     ]
    }
   ],
   "source": [
    "def check_vowel_or_consonant(char):\n",
    "    vowels = 'aeiouAEIOU'\n",
    "\n",
    "    if char.isalpha() and len(char) == 1:\n",
    "        if char in vowels:\n",
    "            return f\"The character '{char}' is a vowel.\"\n",
    "        else:\n",
    "            return f\"The character '{char}' is a consonant.\"\n",
    "    else:\n",
    "        return \"Invalid input! Please enter a single alphabet character.\"\n",
    "\n",
    "char = input(\"Enter a single character: \")\n",
    "result = check_vowel_or_consonant(char)\n",
    "print(result)"
   ]
  },
  {
   "cell_type": "markdown",
   "id": "8ea7e85e",
   "metadata": {},
   "source": [
    "16. Time Classification: Write a Python program that takes the time in hours (24-hour format) as input and prints “Good Morning”, “Good Afternoon”, “Good Evening”, or “Good Night” based on the time."
   ]
  },
  {
   "cell_type": "code",
   "execution_count": 16,
   "id": "be97ec27",
   "metadata": {},
   "outputs": [
    {
     "name": "stdout",
     "output_type": "stream",
     "text": [
      "Enter the time in hours (24-hour format): 13\n",
      "Good Afternoon\n"
     ]
    }
   ],
   "source": [
    "def get_greeting(hour):\n",
    "    if 5 <= hour < 12:\n",
    "        return \"Good Morning\"\n",
    "    elif 12 <= hour < 18:\n",
    "        return \"Good Afternoon\"\n",
    "    elif 18 <= hour < 22:\n",
    "        return \"Good Evening\"\n",
    "    else:\n",
    "        return \"Good Night\"\n",
    "\n",
    "hour = int(input(\"Enter the time in hours (24-hour format): \"))\n",
    "if 0 <= hour < 24:\n",
    "    greeting = get_greeting(hour)\n",
    "    print(greeting)\n",
    "else:\n",
    "    print(\"Invalid input! Please enter a number between 0 and 23.\")"
   ]
  },
  {
   "cell_type": "markdown",
   "id": "b329b3ff",
   "metadata": {},
   "source": [
    "17. Triangle Type Checker: Write a Python program that takes three sides of a triangle as input and determines whether it forms an equilateral, isosceles, or scalene triangle."
   ]
  },
  {
   "cell_type": "code",
   "execution_count": 17,
   "id": "8fad9de2",
   "metadata": {},
   "outputs": [
    {
     "name": "stdout",
     "output_type": "stream",
     "text": [
      "Enter the length of side 1: 12\n",
      "Enter the length of side 2: 13\n",
      "Enter the length of side 3: 13\n",
      "The triangle is a Isosceles Triangle.\n"
     ]
    }
   ],
   "source": [
    "def triangle_type(side1, side2, side3):\n",
    "    if side1 == side2 == side3:\n",
    "        return \"Equilateral Triangle\"\n",
    "    elif side1 == side2 or side1 == side3 or side2 == side3:\n",
    "        return \"Isosceles Triangle\"\n",
    "    else:\n",
    "        return \"Scalene Triangle\"\n",
    "\n",
    "side1 = float(input(\"Enter the length of side 1: \"))\n",
    "side2 = float(input(\"Enter the length of side 2: \"))\n",
    "side3 = float(input(\"Enter the length of side 3: \"))\n",
    "\n",
    "if side1 <= 0 or side2 <= 0 or side3 <= 0:\n",
    "    print(\"Invalid input! Side lengths must be positive.\")\n",
    "else:\n",
    "    triangle = triangle_type(side1, side2, side3)\n",
    "    print(f\"The triangle is a {triangle}.\")"
   ]
  },
  {
   "cell_type": "markdown",
   "id": "93fa0e50",
   "metadata": {},
   "source": [
    "18. Quadratic Equation Solver: Write a Python program that takes the coefficients (a, b, c) of a quadratic equation as input and calculates and prints the real roots (if they exist) or a message indicating the complex roots."
   ]
  },
  {
   "cell_type": "code",
   "execution_count": 18,
   "id": "21f417c1",
   "metadata": {},
   "outputs": [
    {
     "name": "stdout",
     "output_type": "stream",
     "text": [
      "Enter the coefficient 'a': 5\n",
      "Enter the coefficient 'b': 6\n",
      "Enter the coefficient 'c': 7\n",
      "There are two real roots: (-0.6+1.0198039027185568j) and (-0.6-1.0198039027185568j)\n"
     ]
    }
   ],
   "source": [
    "import math\n",
    "\n",
    "def quadratic_roots(a, b, c):\n",
    "    discriminant = b**2 - 4*a*c\n",
    "\n",
    "    if discriminant > 0:\n",
    "        root1 = (-b + math.sqrt(discriminant)) / (2*a)\n",
    "        root2 = (-b - math.sqrt(discriminant)) / (2*a)\n",
    "        return root1, root2\n",
    "    elif discriminant == 0:\n",
    "        root = -b / (2*a)\n",
    "        return root,\n",
    "    else:\n",
    "        real_part = -b / (2*a)\n",
    "        imaginary_part = math.sqrt(abs(discriminant)) / (2*a)\n",
    "        return complex(real_part, imaginary_part), complex(real_part, -imaginary_part)\n",
    "\n",
    "a = float(input(\"Enter the coefficient 'a': \"))\n",
    "b = float(input(\"Enter the coefficient 'b': \"))\n",
    "c = float(input(\"Enter the coefficient 'c': \"))\n",
    "\n",
    "if a == 0:\n",
    "    print(\"This is not a quadratic equation.\")\n",
    "else:\n",
    "    roots = quadratic_roots(a, b, c)\n",
    "    if len(roots) == 1:\n",
    "        print(f\"There is one real root: {roots[0]}\")\n",
    "    else:\n",
    "        print(f\"There are two real roots: {roots[0]} and {roots[1]}\")"
   ]
  },
  {
   "cell_type": "markdown",
   "id": "6e4b46b7",
   "metadata": {},
   "source": [
    "19. Number Ranges: Write a Python program that takes an integer as input and prints whether the number falls within the ranges: 0-50, 51-100, 101-150, or above 150."
   ]
  },
  {
   "cell_type": "code",
   "execution_count": 19,
   "id": "fa42c439",
   "metadata": {
    "scrolled": true
   },
   "outputs": [
    {
     "name": "stdout",
     "output_type": "stream",
     "text": [
      "Enter an integer: 103\n",
      "Number falls within the range 101-150.\n"
     ]
    }
   ],
   "source": [
    "def check_number_range(number):\n",
    "    if number >= 0 and number <= 50:\n",
    "        return \"Number falls within the range 0-50.\"\n",
    "    elif number >= 51 and number <= 100:\n",
    "        return \"Number falls within the range 51-100.\"\n",
    "    elif number >= 101 and number <= 150:\n",
    "        return \"Number falls within the range 101-150.\"\n",
    "    else:\n",
    "        return \"Number is above 150.\"\n",
    "\n",
    "number = int(input(\"Enter an integer: \"))\n",
    "print(check_number_range(number))"
   ]
  },
  {
   "cell_type": "markdown",
   "id": "dcf72942",
   "metadata": {},
   "source": [
    "# For & While Loops:"
   ]
  },
  {
   "cell_type": "markdown",
   "id": "08ad6bd8",
   "metadata": {},
   "source": [
    "20. Sum of N Numbers: Write a Python program using a for loop to calculate the sum of the first N natural numbers, where N is taken as input from the user."
   ]
  },
  {
   "cell_type": "code",
   "execution_count": 20,
   "id": "8d70a132",
   "metadata": {},
   "outputs": [
    {
     "name": "stdout",
     "output_type": "stream",
     "text": [
      "Enter the value of N: 5\n",
      "The sum of the first 5 natural numbers is: 15\n"
     ]
    }
   ],
   "source": [
    "def sum_of_natural_numbers(n):\n",
    "    total = 0\n",
    "    for i in range(1, n + 1):\n",
    "        total += i\n",
    "    return total\n",
    "\n",
    "N = int(input(\"Enter the value of N: \"))\n",
    "if N < 1:\n",
    "    print(\"Please enter a positive integer.\")\n",
    "else:\n",
    "    result = sum_of_natural_numbers(N)\n",
    "    print(f\"The sum of the first {N} natural numbers is: {result}\")"
   ]
  },
  {
   "cell_type": "markdown",
   "id": "5dda2390",
   "metadata": {},
   "source": [
    "21. Factorial Calculator: Write a Python program using a while loop to calculate the factorial of a given number N."
   ]
  },
  {
   "cell_type": "code",
   "execution_count": 21,
   "id": "7564e75c",
   "metadata": {},
   "outputs": [
    {
     "name": "stdout",
     "output_type": "stream",
     "text": [
      "Enter a non-negative integer: 5\n",
      "The factorial of 5 is: 120\n"
     ]
    }
   ],
   "source": [
    "def factorial(N):\n",
    "    if N < 0:\n",
    "        return \"Factorial is not defined for negative numbers.\"\n",
    "    elif N == 0:\n",
    "        return 1\n",
    "    else:\n",
    "        result = 1\n",
    "        while N > 0:\n",
    "            result *= N\n",
    "            N -= 1\n",
    "        return result\n",
    "\n",
    "N = int(input(\"Enter a non-negative integer: \"))\n",
    "print(f\"The factorial of {N} is: {factorial(N)}\")"
   ]
  },
  {
   "cell_type": "markdown",
   "id": "8b503e23",
   "metadata": {},
   "source": [
    "22. Table of a Number: Write a Python program using a for loop to print the multiplication table of a given number N."
   ]
  },
  {
   "cell_type": "code",
   "execution_count": 22,
   "id": "f1b359d9",
   "metadata": {},
   "outputs": [
    {
     "name": "stdout",
     "output_type": "stream",
     "text": [
      "Enter a number: 13\n",
      "Multiplication table for 13:\n",
      "13 x 1 = 13\n",
      "13 x 2 = 26\n",
      "13 x 3 = 39\n",
      "13 x 4 = 52\n",
      "13 x 5 = 65\n",
      "13 x 6 = 78\n",
      "13 x 7 = 91\n",
      "13 x 8 = 104\n",
      "13 x 9 = 117\n",
      "13 x 10 = 130\n"
     ]
    }
   ],
   "source": [
    "def multiplication_table(N):\n",
    "    print(f\"Multiplication table for {N}:\")\n",
    "    for i in range(1, 11):\n",
    "        print(f\"{N} x {i} = {N*i}\")\n",
    "\n",
    "N = int(input(\"Enter a number: \"))\n",
    "multiplication_table(N)"
   ]
  },
  {
   "cell_type": "markdown",
   "id": "aabbc23a",
   "metadata": {},
   "source": [
    "23. Count Digits in a Number: Write a Python program using a while loop to count the number of digits in a given integer N."
   ]
  },
  {
   "cell_type": "code",
   "execution_count": 23,
   "id": "dbdc297f",
   "metadata": {},
   "outputs": [
    {
     "name": "stdout",
     "output_type": "stream",
     "text": [
      "Enter an integer: 546334\n",
      "The number of digits in 546334 is: 6\n"
     ]
    }
   ],
   "source": [
    "def count_digits(N):\n",
    "    if N == 0:\n",
    "        return 1  # Special case: 0 has 1 digit\n",
    "\n",
    "    count = 0\n",
    "    # Take absolute value to handle negative numbers\n",
    "    N = abs(N)\n",
    "    while N > 0:\n",
    "        N //= 10\n",
    "        count += 1\n",
    "    return count\n",
    "\n",
    "N = int(input(\"Enter an integer: \"))\n",
    "digit_count = count_digits(N)\n",
    "print(f\"The number of digits in {N} is: {digit_count}\")"
   ]
  },
  {
   "cell_type": "markdown",
   "id": "32e36eeb",
   "metadata": {},
   "source": [
    "24. Fibonacci Sequence: Write a Python program using a for loop to generate the Fibonacci sequence up to a given limit N."
   ]
  },
  {
   "cell_type": "code",
   "execution_count": 24,
   "id": "a64c42c6",
   "metadata": {},
   "outputs": [
    {
     "name": "stdout",
     "output_type": "stream",
     "text": [
      "Enter the limit for the Fibonacci sequence: 13\n",
      "Fibonacci sequence up to 13 : [0, 1, 1, 2, 3, 5, 8, 13]\n"
     ]
    }
   ],
   "source": [
    "def fibonacci_sequence(N):\n",
    "    fibonacci_numbers = []\n",
    "    a, b = 0, 1\n",
    "    while a <= N:\n",
    "        fibonacci_numbers.append(a)\n",
    "        a, b = b, a + b\n",
    "    return fibonacci_numbers\n",
    "\n",
    "N = int(input(\"Enter the limit for the Fibonacci sequence: \"))\n",
    "if N < 0:\n",
    "    print(\"Invalid input! Please enter a non-negative integer.\")\n",
    "else:\n",
    "    sequence = fibonacci_sequence(N)\n",
    "    print(\"Fibonacci sequence up to\", N, \":\", sequence)"
   ]
  },
  {
   "cell_type": "markdown",
   "id": "e7d82e53",
   "metadata": {},
   "source": [
    "25. Sum of Even Numbers: Write a Python program using a while loop to calculate the sum of all even numbers between 1 and N, where N is taken as input from the user."
   ]
  },
  {
   "cell_type": "code",
   "execution_count": 25,
   "id": "3049ef61",
   "metadata": {},
   "outputs": [
    {
     "name": "stdout",
     "output_type": "stream",
     "text": [
      "Enter a positive integer: 10\n",
      "The sum of all even numbers between 1 and 10 is: 30\n"
     ]
    }
   ],
   "source": [
    "def sum_of_even_numbers(N):\n",
    "    if N < 2:\n",
    "        return 0  # No even numbers between 1 and N if N is less than 2\n",
    "\n",
    "    total = 0\n",
    "    current_number = 2  # Start with the first even number\n",
    "    while current_number <= N:\n",
    "        total += current_number\n",
    "        current_number += 2  # Increment by 2 to move to the next even number\n",
    "    return total\n",
    "\n",
    "N = int(input(\"Enter a positive integer: \"))\n",
    "if N < 1:\n",
    "    print(\"Invalid input! Please enter a positive integer.\")\n",
    "else:\n",
    "    result = sum_of_even_numbers(N)\n",
    "    print(f\"The sum of all even numbers between 1 and {N} is: {result}\")"
   ]
  },
  {
   "cell_type": "markdown",
   "id": "c039f3c5",
   "metadata": {},
   "source": [
    "26. Print Patterns: Write a Python program using nested for loops to print various patterns, such as a right-angled triangle, an inverted right-angled triangle, and so on."
   ]
  },
  {
   "cell_type": "code",
   "execution_count": 26,
   "id": "dc3cdaa8",
   "metadata": {},
   "outputs": [
    {
     "name": "stdout",
     "output_type": "stream",
     "text": [
      "Enter the number of rows for the triangle: 6\n",
      "*\n",
      "**\n",
      "***\n",
      "****\n",
      "*****\n",
      "******\n"
     ]
    }
   ],
   "source": [
    "def right_angled_triangle(rows):\n",
    "    for i in range(1, rows + 1):\n",
    "        for j in range(i):\n",
    "            print(\"*\", end=\"\")\n",
    "        print()\n",
    "\n",
    "rows = int(input(\"Enter the number of rows for the triangle: \"))\n",
    "right_angled_triangle(rows)"
   ]
  },
  {
   "cell_type": "code",
   "execution_count": 27,
   "id": "08ca562a",
   "metadata": {},
   "outputs": [
    {
     "name": "stdout",
     "output_type": "stream",
     "text": [
      "Enter the number of rows for the inverted right-angled triangle: 6\n",
      "******\n",
      "*****\n",
      "****\n",
      "***\n",
      "**\n",
      "*\n"
     ]
    }
   ],
   "source": [
    "def inverted_right_angled_triangle(rows):\n",
    "    for i in range(rows, 0, -1):\n",
    "        for j in range(i):\n",
    "            print(\"*\", end=\"\")\n",
    "        print()\n",
    "\n",
    "rows = int(input(\"Enter the number of rows for the inverted right-angled triangle: \"))\n",
    "inverted_right_angled_triangle(rows)"
   ]
  },
  {
   "cell_type": "code",
   "execution_count": 28,
   "id": "276efb44",
   "metadata": {},
   "outputs": [
    {
     "name": "stdout",
     "output_type": "stream",
     "text": [
      "Enter the number of rows for the half diamond: 6\n",
      "*\n",
      "**\n",
      "***\n",
      "****\n",
      "*****\n",
      "******\n",
      "*****\n",
      "****\n",
      "***\n",
      "**\n",
      "*\n"
     ]
    }
   ],
   "source": [
    "def half_diamond(rows):\n",
    "    for i in range(rows):\n",
    "        for j in range(i + 1):\n",
    "            print(\"*\", end=\"\")\n",
    "        print()\n",
    "    for i in range(rows - 2, -1, -1):\n",
    "        for j in range(i + 1):\n",
    "            print(\"*\", end=\"\")\n",
    "        print()\n",
    "\n",
    "rows = int(input(\"Enter the number of rows for the half diamond: \"))        \n",
    "half_diamond(rows)"
   ]
  },
  {
   "cell_type": "markdown",
   "id": "4dbac951",
   "metadata": {},
   "source": [
    "27. Prime Number Checker: Write a Python program using a while loop to check if a given number N is prime or not."
   ]
  },
  {
   "cell_type": "code",
   "execution_count": 29,
   "id": "861c28f6",
   "metadata": {},
   "outputs": [
    {
     "name": "stdout",
     "output_type": "stream",
     "text": [
      "Enter a number: 13\n",
      "13 is a prime number.\n"
     ]
    }
   ],
   "source": [
    "def is_prime(N):\n",
    "    if N <= 1:\n",
    "        return False\n",
    "    elif N == 2:\n",
    "        return True\n",
    "\n",
    "    divisor = 2\n",
    "    while divisor * divisor <= N:\n",
    "        if N % divisor == 0:\n",
    "            return False\n",
    "        divisor += 1\n",
    "    return True\n",
    "\n",
    "N = int(input(\"Enter a number: \"))\n",
    "if is_prime(N):\n",
    "    print(f\"{N} is a prime number.\")\n",
    "else:\n",
    "    print(f\"{N} is not a prime number.\")"
   ]
  },
  {
   "cell_type": "markdown",
   "id": "07ad73a8",
   "metadata": {},
   "source": [
    "28. List Manipulation: Given a list of integers, write a Python program using a for loop to find the sum, average, maximum, and minimum values in the list."
   ]
  },
  {
   "cell_type": "code",
   "execution_count": 30,
   "id": "2651b759",
   "metadata": {},
   "outputs": [
    {
     "name": "stdout",
     "output_type": "stream",
     "text": [
      "Enter a list of integers separated by spaces: 4 5 6 3 4 6 1 8 5 6 4 6 44 6\n",
      "Sum: 108\n",
      "Average: 7.714285714285714\n",
      "Maximum: 44\n",
      "Minimum: 1\n"
     ]
    }
   ],
   "source": [
    "def list_operations(numbers):\n",
    "    if not numbers:\n",
    "        return None, None, None, None\n",
    "\n",
    "    total = sum(numbers)\n",
    "    average = total / len(numbers)\n",
    "    maximum = max(numbers)\n",
    "    minimum = min(numbers)\n",
    "\n",
    "    return total, average, maximum, minimum\n",
    "\n",
    "numbers = [int(x) for x in input(\"Enter a list of integers separated by spaces: \").split()]\n",
    "total, average, maximum, minimum = list_operations(numbers)\n",
    "if total is not None:\n",
    "    print(\"Sum:\", total)\n",
    "    print(\"Average:\", average)\n",
    "    print(\"Maximum:\", maximum)\n",
    "    print(\"Minimum:\", minimum)\n",
    "else:\n",
    "    print(\"List is empty.\")"
   ]
  },
  {
   "cell_type": "markdown",
   "id": "f8be0ca2",
   "metadata": {},
   "source": [
    "29. Reverse String: Write a Python program using a while loop to reverse a given string."
   ]
  },
  {
   "cell_type": "code",
   "execution_count": 31,
   "id": "ea4b6d60",
   "metadata": {},
   "outputs": [
    {
     "name": "stdout",
     "output_type": "stream",
     "text": [
      "Enter a string: hello, how are you?\n",
      "Reversed string: ?uoy era woh ,olleh\n"
     ]
    }
   ],
   "source": [
    "def reverse_string(s):\n",
    "    reversed_string = \"\"\n",
    "    index = len(s) - 1\n",
    "\n",
    "    while index >= 0:\n",
    "        reversed_string += s[index]\n",
    "        index -= 1\n",
    "\n",
    "    return reversed_string\n",
    "\n",
    "input_string = input(\"Enter a string: \")\n",
    "reversed_string = reverse_string(input_string)\n",
    "print(\"Reversed string:\", reversed_string)"
   ]
  },
  {
   "cell_type": "markdown",
   "id": "4c17c0d3",
   "metadata": {},
   "source": [
    "# Nested Loops:"
   ]
  },
  {
   "cell_type": "markdown",
   "id": "55b9b542",
   "metadata": {},
   "source": [
    "30. Multiplication Table: Write a Python program using nested loops to print the multiplication table from 1 to 10."
   ]
  },
  {
   "cell_type": "code",
   "execution_count": 32,
   "id": "83030a5d",
   "metadata": {},
   "outputs": [
    {
     "name": "stdout",
     "output_type": "stream",
     "text": [
      "Multiplication table for 1:\n",
      "1 x 1 = 1\n",
      "1 x 2 = 2\n",
      "1 x 3 = 3\n",
      "1 x 4 = 4\n",
      "1 x 5 = 5\n",
      "1 x 6 = 6\n",
      "1 x 7 = 7\n",
      "1 x 8 = 8\n",
      "1 x 9 = 9\n",
      "1 x 10 = 10\n",
      "\n",
      "Multiplication table for 2:\n",
      "2 x 1 = 2\n",
      "2 x 2 = 4\n",
      "2 x 3 = 6\n",
      "2 x 4 = 8\n",
      "2 x 5 = 10\n",
      "2 x 6 = 12\n",
      "2 x 7 = 14\n",
      "2 x 8 = 16\n",
      "2 x 9 = 18\n",
      "2 x 10 = 20\n",
      "\n",
      "Multiplication table for 3:\n",
      "3 x 1 = 3\n",
      "3 x 2 = 6\n",
      "3 x 3 = 9\n",
      "3 x 4 = 12\n",
      "3 x 5 = 15\n",
      "3 x 6 = 18\n",
      "3 x 7 = 21\n",
      "3 x 8 = 24\n",
      "3 x 9 = 27\n",
      "3 x 10 = 30\n",
      "\n",
      "Multiplication table for 4:\n",
      "4 x 1 = 4\n",
      "4 x 2 = 8\n",
      "4 x 3 = 12\n",
      "4 x 4 = 16\n",
      "4 x 5 = 20\n",
      "4 x 6 = 24\n",
      "4 x 7 = 28\n",
      "4 x 8 = 32\n",
      "4 x 9 = 36\n",
      "4 x 10 = 40\n",
      "\n",
      "Multiplication table for 5:\n",
      "5 x 1 = 5\n",
      "5 x 2 = 10\n",
      "5 x 3 = 15\n",
      "5 x 4 = 20\n",
      "5 x 5 = 25\n",
      "5 x 6 = 30\n",
      "5 x 7 = 35\n",
      "5 x 8 = 40\n",
      "5 x 9 = 45\n",
      "5 x 10 = 50\n",
      "\n",
      "Multiplication table for 6:\n",
      "6 x 1 = 6\n",
      "6 x 2 = 12\n",
      "6 x 3 = 18\n",
      "6 x 4 = 24\n",
      "6 x 5 = 30\n",
      "6 x 6 = 36\n",
      "6 x 7 = 42\n",
      "6 x 8 = 48\n",
      "6 x 9 = 54\n",
      "6 x 10 = 60\n",
      "\n",
      "Multiplication table for 7:\n",
      "7 x 1 = 7\n",
      "7 x 2 = 14\n",
      "7 x 3 = 21\n",
      "7 x 4 = 28\n",
      "7 x 5 = 35\n",
      "7 x 6 = 42\n",
      "7 x 7 = 49\n",
      "7 x 8 = 56\n",
      "7 x 9 = 63\n",
      "7 x 10 = 70\n",
      "\n",
      "Multiplication table for 8:\n",
      "8 x 1 = 8\n",
      "8 x 2 = 16\n",
      "8 x 3 = 24\n",
      "8 x 4 = 32\n",
      "8 x 5 = 40\n",
      "8 x 6 = 48\n",
      "8 x 7 = 56\n",
      "8 x 8 = 64\n",
      "8 x 9 = 72\n",
      "8 x 10 = 80\n",
      "\n",
      "Multiplication table for 9:\n",
      "9 x 1 = 9\n",
      "9 x 2 = 18\n",
      "9 x 3 = 27\n",
      "9 x 4 = 36\n",
      "9 x 5 = 45\n",
      "9 x 6 = 54\n",
      "9 x 7 = 63\n",
      "9 x 8 = 72\n",
      "9 x 9 = 81\n",
      "9 x 10 = 90\n",
      "\n",
      "Multiplication table for 10:\n",
      "10 x 1 = 10\n",
      "10 x 2 = 20\n",
      "10 x 3 = 30\n",
      "10 x 4 = 40\n",
      "10 x 5 = 50\n",
      "10 x 6 = 60\n",
      "10 x 7 = 70\n",
      "10 x 8 = 80\n",
      "10 x 9 = 90\n",
      "10 x 10 = 100\n",
      "\n"
     ]
    }
   ],
   "source": [
    "def multiplication_table():\n",
    "    for i in range(1, 11):\n",
    "        print(f\"Multiplication table for {i}:\")\n",
    "        for j in range(1, 11):\n",
    "            print(f\"{i} x {j} = {i*j}\")\n",
    "        print()\n",
    "\n",
    "multiplication_table()"
   ]
  },
  {
   "cell_type": "code",
   "execution_count": 33,
   "id": "79071517",
   "metadata": {},
   "outputs": [
    {
     "data": {
      "image/jpeg": "[encoded data removed]",
      "text/plain": [
       "<IPython.core.display.Image object>"
      ]
     },
     "execution_count": 33,
     "metadata": {},
     "output_type": "execute_result"
    }
   ],
   "source": [
    "from IPython.display import Image\n",
    "Image(r\"C:\\Users\\Lenovo\\Desktop\\images\\99.jpg\")"
   ]
  },
  {
   "cell_type": "code",
   "execution_count": 34,
   "id": "b06a05c1",
   "metadata": {},
   "outputs": [
    {
     "name": "stdout",
     "output_type": "stream",
     "text": [
      "*\n",
      "**\n",
      "***\n",
      "****\n",
      "*****\n"
     ]
    }
   ],
   "source": [
    "def print_pattern(rows):\n",
    "    for i in range(1, rows + 1):\n",
    "        for j in range(i):\n",
    "            print(\"*\", end=\"\")\n",
    "        print()\n",
    "\n",
    "rows = 5  # Number of rows for the pattern\n",
    "print_pattern(rows)"
   ]
  },
  {
   "cell_type": "markdown",
   "id": "eec70fa4",
   "metadata": {},
   "source": [
    "32. Matrix Multiplication: Write a Python program using nested loops to multiply two matrices."
   ]
  },
  {
   "cell_type": "code",
   "execution_count": 35,
   "id": "be91b1be",
   "metadata": {},
   "outputs": [
    {
     "name": "stdout",
     "output_type": "stream",
     "text": [
      "Result of matrix multiplication:\n",
      "[30, 24, 18]\n",
      "[84, 69, 54]\n",
      "[138, 114, 90]\n"
     ]
    }
   ],
   "source": [
    "def multiply_matrices(matrix1, matrix2):\n",
    "    # Dimensions of the matrices\n",
    "    rows1, cols1 = len(matrix1), len(matrix1[0])\n",
    "    rows2, cols2 = len(matrix2), len(matrix2[0])\n",
    "\n",
    "    # Check if the matrices can be multiplied\n",
    "    if cols1 != rows2:\n",
    "        print(\"Matrices cannot be multiplied. Inner dimensions do not match.\")\n",
    "        return None\n",
    "\n",
    "    # Initialize the result matrix with zeros\n",
    "    result = [[0 for _ in range(cols2)] for _ in range(rows1)]\n",
    "\n",
    "    # Perform matrix multiplication\n",
    "    for i in range(rows1):\n",
    "        for j in range(cols2):\n",
    "            for k in range(cols1):\n",
    "                result[i][j] += matrix1[i][k] * matrix2[k][j]\n",
    "\n",
    "    return result\n",
    "\n",
    "# Example matrices\n",
    "matrix1 = [[1, 2, 3],\n",
    "           [4, 5, 6],\n",
    "           [7, 8, 9]]\n",
    "\n",
    "matrix2 = [[9, 8, 7],\n",
    "           [6, 5, 4],\n",
    "           [3, 2, 1]]\n",
    "\n",
    "result = multiply_matrices(matrix1, matrix2)\n",
    "if result:\n",
    "    print(\"Result of matrix multiplication:\")\n",
    "    for row in result:\n",
    "        print(row)"
   ]
  },
  {
   "cell_type": "markdown",
   "id": "e0f39845",
   "metadata": {},
   "source": [
    "33. Chessboard Pattern: Write a Python program using nested loops to print a chessboard pattern (alternating “X” and “O” characters) of size 8×8.34. Number Pyramid: Write a Python program using nested loops to print a number pyramid like the following: 1 22 333 4444 55555"
   ]
  },
  {
   "cell_type": "code",
   "execution_count": 36,
   "id": "e77a4c66",
   "metadata": {},
   "outputs": [
    {
     "name": "stdout",
     "output_type": "stream",
     "text": [
      "X O X O X O X O \n",
      "O X O X O X O X \n",
      "X O X O X O X O \n",
      "O X O X O X O X \n",
      "X O X O X O X O \n",
      "O X O X O X O X \n",
      "X O X O X O X O \n",
      "O X O X O X O X \n"
     ]
    }
   ],
   "source": [
    "def chessboard_pattern():\n",
    "    size = 8\n",
    "    for i in range(size):\n",
    "        for j in range(size):\n",
    "            if (i + j) % 2 == 0:\n",
    "                print(\"X\", end=\" \")\n",
    "            else:\n",
    "                print(\"O\", end=\" \")\n",
    "        print()\n",
    "\n",
    "chessboard_pattern()"
   ]
  },
  {
   "cell_type": "code",
   "execution_count": 37,
   "id": "bdc9bb4d",
   "metadata": {},
   "outputs": [
    {
     "name": "stdout",
     "output_type": "stream",
     "text": [
      "1 \n",
      "2 2 \n",
      "3 3 3 \n",
      "4 4 4 4 \n",
      "5 5 5 5 5 \n"
     ]
    }
   ],
   "source": [
    "def number_pyramid():\n",
    "    rows = 5\n",
    "    for i in range(1, rows + 1):\n",
    "        for j in range(i):\n",
    "            print(i, end=\" \")\n",
    "        print()\n",
    "\n",
    "number_pyramid()"
   ]
  },
  {
   "cell_type": "markdown",
   "id": "521c5846",
   "metadata": {},
   "source": [
    "# List Problems:"
   ]
  },
  {
   "cell_type": "markdown",
   "id": "89c2c892",
   "metadata": {},
   "source": [
    "34. List Sum: Write a Python program to find the sum of all elements in a given list of integers."
   ]
  },
  {
   "cell_type": "code",
   "execution_count": 38,
   "id": "746f15d3",
   "metadata": {},
   "outputs": [
    {
     "name": "stdout",
     "output_type": "stream",
     "text": [
      "Sum of list elements: 15\n"
     ]
    }
   ],
   "source": [
    "def sum_of_list_elements(lst):\n",
    "    total = 0\n",
    "    for num in lst:\n",
    "        total += num\n",
    "    return total\n",
    "\n",
    "# Example usage:\n",
    "my_list = [1, 2, 3, 4, 5]\n",
    "print(\"Sum of list elements:\", sum_of_list_elements(my_list))"
   ]
  },
  {
   "cell_type": "markdown",
   "id": "6a7b0e23",
   "metadata": {},
   "source": [
    "35. List Average: Write a Python program to calculate the average of all elements in a given list of integers."
   ]
  },
  {
   "cell_type": "code",
   "execution_count": 39,
   "id": "ee38aa7e",
   "metadata": {},
   "outputs": [
    {
     "name": "stdout",
     "output_type": "stream",
     "text": [
      "Average of list elements: 3.0\n"
     ]
    }
   ],
   "source": [
    "def average_of_list_elements(lst):\n",
    "    total = sum(lst)\n",
    "    average = total / len(lst)\n",
    "    return average\n",
    "\n",
    "# Example usage:\n",
    "my_list = [1, 2, 3, 4, 5]\n",
    "print(\"Average of list elements:\", average_of_list_elements(my_list))"
   ]
  },
  {
   "cell_type": "markdown",
   "id": "c7e69018",
   "metadata": {},
   "source": [
    "36. List Max and Min: Write a Python program to find the maximum and minimum values in a given list of integers."
   ]
  },
  {
   "cell_type": "code",
   "execution_count": 40,
   "id": "3936eff2",
   "metadata": {},
   "outputs": [
    {
     "name": "stdout",
     "output_type": "stream",
     "text": [
      "Maximum value: 5\n",
      "Minimum value: 1\n"
     ]
    }
   ],
   "source": [
    "def find_max_min(lst):\n",
    "    maximum = max(lst)\n",
    "    minimum = min(lst)\n",
    "    return maximum, minimum\n",
    "\n",
    "# Example usage:\n",
    "my_list = [1, 2, 3, 4, 5]\n",
    "max_value, min_value = find_max_min(my_list)\n",
    "print(\"Maximum value:\", max_value)\n",
    "print(\"Minimum value:\", min_value)"
   ]
  },
  {
   "cell_type": "markdown",
   "id": "eb602abc",
   "metadata": {},
   "source": [
    "37. List Sorting: Write a Python program to sort a list of integers in ascending order."
   ]
  },
  {
   "cell_type": "code",
   "execution_count": 41,
   "id": "a9df17be",
   "metadata": {},
   "outputs": [
    {
     "name": "stdout",
     "output_type": "stream",
     "text": [
      "Sorted list in ascending order: [1, 1, 2, 3, 4, 5, 5, 6, 9]\n"
     ]
    }
   ],
   "source": [
    "def sort_list_ascending(lst):\n",
    "    sorted_list = sorted(lst)\n",
    "    return sorted_list\n",
    "\n",
    "# Example usage:\n",
    "my_list = [3, 1, 4, 1, 5, 9, 2, 6, 5]\n",
    "sorted_list = sort_list_ascending(my_list)\n",
    "print(\"Sorted list in ascending order:\", sorted_list)"
   ]
  },
  {
   "cell_type": "markdown",
   "id": "85fd6500",
   "metadata": {},
   "source": [
    "38. List Filtering: Given a list of integers, write a Python program to create a new list that contains only the even numbers from the original list."
   ]
  },
  {
   "cell_type": "code",
   "execution_count": 42,
   "id": "996efee2",
   "metadata": {},
   "outputs": [
    {
     "name": "stdout",
     "output_type": "stream",
     "text": [
      "List of even numbers: [2, 4, 6, 8, 10]\n"
     ]
    }
   ],
   "source": [
    "def get_even_numbers(lst):\n",
    "    even_numbers = []\n",
    "    for num in lst:\n",
    "        if num % 2 == 0:\n",
    "            even_numbers.append(num)\n",
    "    return even_numbers\n",
    "\n",
    "# Example usage:\n",
    "original_list = [1, 2, 3, 4, 5, 6, 7, 8, 9, 10]\n",
    "even_numbers_list = get_even_numbers(original_list)\n",
    "print(\"List of even numbers:\", even_numbers_list)"
   ]
  },
  {
   "cell_type": "markdown",
   "id": "11dad209",
   "metadata": {},
   "source": [
    "39. List Reversal: Write a Python program to reverse a given list without using any built-in functions."
   ]
  },
  {
   "cell_type": "code",
   "execution_count": 43,
   "id": "911f8c31",
   "metadata": {},
   "outputs": [
    {
     "name": "stdout",
     "output_type": "stream",
     "text": [
      "Reversed list: [5, 4, 3, 2, 1]\n"
     ]
    }
   ],
   "source": [
    "def reverse_list(lst):\n",
    "    left_index = 0\n",
    "    right_index = len(lst) - 1\n",
    "    \n",
    "    while left_index < right_index:\n",
    "        # Swap elements at left_index and right_index\n",
    "        lst[left_index], lst[right_index] = lst[right_index], lst[left_index]\n",
    "        # Move towards the middle of the list\n",
    "        left_index += 1\n",
    "        right_index -= 1\n",
    "\n",
    "# Example usage:\n",
    "my_list = [1, 2, 3, 4, 5]\n",
    "reverse_list(my_list)\n",
    "print(\"Reversed list:\", my_list)"
   ]
  },
  {
   "cell_type": "markdown",
   "id": "e6febe98",
   "metadata": {},
   "source": [
    "40. List Manipulation: Given two lists of integers, write a Python program to create a new list that contains elements common to both lists."
   ]
  },
  {
   "cell_type": "code",
   "execution_count": 44,
   "id": "e671e872",
   "metadata": {},
   "outputs": [
    {
     "name": "stdout",
     "output_type": "stream",
     "text": [
      "Common elements: [3, 4, 5]\n"
     ]
    }
   ],
   "source": [
    "def find_common_elements(list1, list2):\n",
    "    common_elements = []\n",
    "    for item in list1:\n",
    "        if item in list2 and item not in common_elements:\n",
    "            common_elements.append(item)\n",
    "    return common_elements\n",
    "\n",
    "# Example usage:\n",
    "list1 = [1, 2, 3, 4, 5]\n",
    "list2 = [3, 4, 5, 6, 7]\n",
    "common_elements = find_common_elements(list1, list2)\n",
    "print(\"Common elements:\", common_elements)"
   ]
  },
  {
   "cell_type": "markdown",
   "id": "af2119a4",
   "metadata": {},
   "source": [
    "41. List Element Count: Write a Python program to count the occurrences of a specific element in a given list."
   ]
  },
  {
   "cell_type": "code",
   "execution_count": 45,
   "id": "13952881",
   "metadata": {},
   "outputs": [
    {
     "name": "stdout",
     "output_type": "stream",
     "text": [
      "Occurrences of 1 : 4\n"
     ]
    }
   ],
   "source": [
    "def count_occurrences(lst, element):\n",
    "    count = 0\n",
    "    for item in lst:\n",
    "        if item == element:\n",
    "            count += 1\n",
    "    return count\n",
    "\n",
    "# Example usage:\n",
    "my_list = [1, 2, 3, 4, 1, 1, 2, 1, 5]\n",
    "element_to_count = 1\n",
    "occurrences = count_occurrences(my_list, element_to_count)\n",
    "print(\"Occurrences of\", element_to_count, \":\", occurrences)"
   ]
  },
  {
   "cell_type": "markdown",
   "id": "c3340e48",
   "metadata": {},
   "source": [
    "42. List Duplicates Removal: Write a Python program to remove duplicates from a given list while preserving the order of the elements."
   ]
  },
  {
   "cell_type": "code",
   "execution_count": 46,
   "id": "ffaaac12",
   "metadata": {},
   "outputs": [
    {
     "name": "stdout",
     "output_type": "stream",
     "text": [
      "List with duplicates removed: [1, 2, 3, 4, 5, 6]\n"
     ]
    }
   ],
   "source": [
    "def remove_duplicates(lst):\n",
    "    seen = {}\n",
    "    result = []\n",
    "    for item in lst:\n",
    "        if item not in seen:\n",
    "            seen[item] = True\n",
    "            result.append(item)\n",
    "    return result\n",
    "\n",
    "# Example usage:\n",
    "my_list = [1, 2, 3, 2, 1, 4, 5, 6, 5]\n",
    "unique_list = remove_duplicates(my_list)\n",
    "print(\"List with duplicates removed:\", unique_list)"
   ]
  },
  {
   "cell_type": "markdown",
   "id": "3055535f",
   "metadata": {},
   "source": [
    "43. List Comprehension: Given a list of integers, write a Python program to create a new list that contains the squares of the elements using list comprehension."
   ]
  },
  {
   "cell_type": "code",
   "execution_count": 47,
   "id": "22de65eb",
   "metadata": {},
   "outputs": [
    {
     "name": "stdout",
     "output_type": "stream",
     "text": [
      "List of squares: [1, 4, 9, 16, 25]\n"
     ]
    }
   ],
   "source": [
    "def square_elements(lst):\n",
    "    return [x**2 for x in lst]\n",
    "\n",
    "# Example usage:\n",
    "original_list = [1, 2, 3, 4, 5]\n",
    "squared_list = square_elements(original_list)\n",
    "print(\"List of squares:\", squared_list)"
   ]
  },
  {
   "cell_type": "markdown",
   "id": "78db101d",
   "metadata": {},
   "source": [
    "# Nested List Problems:"
   ]
  },
  {
   "cell_type": "markdown",
   "id": "789fd83f",
   "metadata": {},
   "source": [
    "44. Matrix Addition: Write a Python program to add two matrices represented as nested lists."
   ]
  },
  {
   "cell_type": "code",
   "execution_count": 48,
   "id": "74e61695",
   "metadata": {},
   "outputs": [
    {
     "name": "stdout",
     "output_type": "stream",
     "text": [
      "Result Matrix:\n",
      "[10, 10, 10]\n",
      "[10, 10, 10]\n",
      "[10, 10, 10]\n"
     ]
    }
   ],
   "source": [
    "def add_matrices(matrix1, matrix2):\n",
    "    # Check if the dimensions of the matrices are the same\n",
    "    if len(matrix1) != len(matrix2) or len(matrix1[0]) != len(matrix2[0]):\n",
    "        raise ValueError(\"Matrices must have the same dimensions\")\n",
    "\n",
    "    # Create a new matrix to store the result\n",
    "    result = []\n",
    "\n",
    "    # Iterate over rows of the matrices\n",
    "    for i in range(len(matrix1)):\n",
    "        # Create a new row for the result matrix\n",
    "        result_row = []\n",
    "        # Iterate over columns of the matrices\n",
    "        for j in range(len(matrix1[0])):\n",
    "            # Add corresponding elements from both matrices\n",
    "            result_row.append(matrix1[i][j] + matrix2[i][j])\n",
    "        # Add the row to the result matrix\n",
    "        result.append(result_row)\n",
    "\n",
    "    return result\n",
    "\n",
    "# Example usage:\n",
    "matrix1 = [[1, 2, 3],\n",
    "           [4, 5, 6],\n",
    "           [7, 8, 9]]\n",
    "\n",
    "matrix2 = [[9, 8, 7],\n",
    "           [6, 5, 4],\n",
    "           [3, 2, 1]]\n",
    "\n",
    "result_matrix = add_matrices(matrix1, matrix2)\n",
    "print(\"Result Matrix:\")\n",
    "for row in result_matrix:\n",
    "    print(row)"
   ]
  },
  {
   "cell_type": "markdown",
   "id": "fb79630e",
   "metadata": {},
   "source": [
    "45. Flatten Nested List: Write a Python program to flatten a given nested list and convert it into a single-dimensional list."
   ]
  },
  {
   "cell_type": "code",
   "execution_count": 49,
   "id": "7c545458",
   "metadata": {},
   "outputs": [
    {
     "name": "stdout",
     "output_type": "stream",
     "text": [
      "Flattened list: [1, 2, 3, 4, 5, 6, 7, 8, 9]\n"
     ]
    }
   ],
   "source": [
    "def flatten_list(nested_list):\n",
    "    flattened_list = []\n",
    "    for item in nested_list:\n",
    "        if isinstance(item, list):\n",
    "            flattened_list.extend(flatten_list(item))\n",
    "        else:\n",
    "            flattened_list.append(item)\n",
    "    return flattened_list\n",
    "\n",
    "# Example usage:\n",
    "nested_list = [1, [2, 3], [4, [5, 6]], 7, [8, 9]]\n",
    "flat_list = flatten_list(nested_list)\n",
    "print(\"Flattened list:\", flat_list)"
   ]
  },
  {
   "cell_type": "markdown",
   "id": "781847df",
   "metadata": {},
   "source": [
    "46. List Element Frequency: Given a nested list containing lists of integers, write a Python program to count the frequency of each element in the entire nested list."
   ]
  },
  {
   "cell_type": "code",
   "execution_count": 50,
   "id": "6a2c5667",
   "metadata": {},
   "outputs": [
    {
     "name": "stdout",
     "output_type": "stream",
     "text": [
      "Frequency of each element:\n",
      "1 : 3\n",
      "2 : 3\n",
      "3 : 3\n",
      "4 : 1\n",
      "5 : 1\n"
     ]
    }
   ],
   "source": [
    "def count_frequency(nested_list):\n",
    "    frequency = {}\n",
    "    for sublist in nested_list:\n",
    "        if isinstance(sublist, list):\n",
    "            for item in sublist:\n",
    "                frequency[item] = frequency.get(item, 0) + 1\n",
    "        else:\n",
    "            frequency[sublist] = frequency.get(sublist, 0) + 1\n",
    "    return frequency\n",
    "\n",
    "# Example usage:\n",
    "nested_list = [[1, 2, 3], [2, 3, 4, 5], [1, 1, 2, 3]]\n",
    "frequency = count_frequency(nested_list)\n",
    "print(\"Frequency of each element:\")\n",
    "for item, count in frequency.items():\n",
    "    print(item, \":\", count)"
   ]
  },
  {
   "cell_type": "markdown",
   "id": "f8492ed3",
   "metadata": {},
   "source": [
    "47. Transpose Matrix: Write a Python program to transpose a given matrix represented as a nested list."
   ]
  },
  {
   "cell_type": "code",
   "execution_count": 51,
   "id": "dad04763",
   "metadata": {},
   "outputs": [
    {
     "name": "stdout",
     "output_type": "stream",
     "text": [
      "Original Matrix:\n",
      "[1, 2, 3]\n",
      "[4, 5, 6]\n",
      "[7, 8, 9]\n",
      "\n",
      "Transposed Matrix:\n",
      "[1, 4, 7]\n",
      "[2, 5, 8]\n",
      "[3, 6, 9]\n"
     ]
    }
   ],
   "source": [
    "def transpose_matrix(matrix):\n",
    "    num_rows = len(matrix)\n",
    "    num_cols = len(matrix[0])\n",
    "\n",
    "    # Initialize a new matrix with swapped dimensions\n",
    "    transposed_matrix = [[0 for _ in range(num_rows)] for _ in range(num_cols)]\n",
    "\n",
    "    # Iterate over each element in the original matrix\n",
    "    for i in range(num_rows):\n",
    "        for j in range(num_cols):\n",
    "            # Swap rows and columns\n",
    "            transposed_matrix[j][i] = matrix[i][j]\n",
    "\n",
    "    return transposed_matrix\n",
    "\n",
    "# Example usage:\n",
    "matrix = [[1, 2, 3],\n",
    "          [4, 5, 6],\n",
    "          [7, 8, 9]]\n",
    "\n",
    "transposed_matrix = transpose_matrix(matrix)\n",
    "print(\"Original Matrix:\")\n",
    "for row in matrix:\n",
    "    print(row)\n",
    "\n",
    "print(\"\\nTransposed Matrix:\")\n",
    "for row in transposed_matrix:\n",
    "    print(row)"
   ]
  },
  {
   "cell_type": "markdown",
   "id": "d22a06da",
   "metadata": {},
   "source": [
    "48. List of Lists Concatenation: Given a list of nested lists, write a Python program to concatenate all the sublists into a single flat list."
   ]
  },
  {
   "cell_type": "code",
   "execution_count": 52,
   "id": "f4552bd3",
   "metadata": {},
   "outputs": [
    {
     "name": "stdout",
     "output_type": "stream",
     "text": [
      "Flat list: [1, 2, 3, 4, 5, 6, 7, 8]\n"
     ]
    }
   ],
   "source": [
    "def concatenate_nested_lists(nested_list):\n",
    "    flat_list = [item for sublist in nested_list for item in sublist]\n",
    "    return flat_list\n",
    "\n",
    "# Example usage:\n",
    "nested_list = [[1, 2, 3], [4, 5], [6, 7, 8]]\n",
    "flat_list = concatenate_nested_lists(nested_list)\n",
    "print(\"Flat list:\", flat_list)"
   ]
  },
  {
   "cell_type": "markdown",
   "id": "960fed79",
   "metadata": {},
   "source": [
    "# Tuple Problems:"
   ]
  },
  {
   "cell_type": "markdown",
   "id": "78f1349b",
   "metadata": {},
   "source": [
    "49. Tuple Concatenation: Write a Python program to concatenate two tuples and create a new tuple."
   ]
  },
  {
   "cell_type": "code",
   "execution_count": 53,
   "id": "e35bd34d",
   "metadata": {},
   "outputs": [
    {
     "name": "stdout",
     "output_type": "stream",
     "text": [
      "Concatenated tuple: (1, 2, 3, 4, 5, 6)\n"
     ]
    }
   ],
   "source": [
    "def concatenate_tuples(tuple1, tuple2):\n",
    "    concatenated_tuple = tuple1 + tuple2\n",
    "    return concatenated_tuple\n",
    "\n",
    "# Example usage:\n",
    "tuple1 = (1, 2, 3)\n",
    "tuple2 = (4, 5, 6)\n",
    "concatenated_tuple = concatenate_tuples(tuple1, tuple2)\n",
    "print(\"Concatenated tuple:\", concatenated_tuple)"
   ]
  },
  {
   "cell_type": "markdown",
   "id": "d151bc73",
   "metadata": {},
   "source": [
    "50. Tuple Unpacking: Given a tuple with three elements (x, y, z), write a Python program to unpack the tuple and assign the values to three variables."
   ]
  },
  {
   "cell_type": "code",
   "execution_count": 54,
   "id": "c170ec0e",
   "metadata": {},
   "outputs": [
    {
     "name": "stdout",
     "output_type": "stream",
     "text": [
      "x: 10\n",
      "y: 20\n",
      "z: 30\n"
     ]
    }
   ],
   "source": [
    "# Given tuple\n",
    "tuple_xyz = (10, 20, 30)\n",
    "\n",
    "# Unpack the tuple and assign values to variables\n",
    "x, y, z = tuple_xyz\n",
    "\n",
    "# Print the values of variables\n",
    "print(\"x:\", x)\n",
    "print(\"y:\", y)\n",
    "print(\"z:\", z)"
   ]
  },
  {
   "cell_type": "markdown",
   "id": "5aa5d66d",
   "metadata": {},
   "source": [
    "51. Tuple Sorting: Write a Python program to sort a tuple of integers in ascending order."
   ]
  },
  {
   "cell_type": "code",
   "execution_count": 55,
   "id": "4820deeb",
   "metadata": {},
   "outputs": [
    {
     "name": "stdout",
     "output_type": "stream",
     "text": [
      "Sorted tuple in ascending order: (1, 2, 4, 5, 7)\n"
     ]
    }
   ],
   "source": [
    "def sort_tuple_ascending(tuple_integers):\n",
    "    sorted_list = sorted(tuple_integers)\n",
    "    sorted_tuple = tuple(sorted_list)\n",
    "    return sorted_tuple\n",
    "\n",
    "# Example usage:\n",
    "tuple_integers = (4, 2, 7, 1, 5)\n",
    "sorted_tuple = sort_tuple_ascending(tuple_integers)\n",
    "print(\"Sorted tuple in ascending order:\", sorted_tuple)"
   ]
  },
  {
   "cell_type": "markdown",
   "id": "7a7788e9",
   "metadata": {},
   "source": [
    "52. Tuple Frequency Count: Given a tuple containing various elements, write a Python program to count the frequency of a specific element in the tuple."
   ]
  },
  {
   "cell_type": "code",
   "execution_count": 56,
   "id": "2f20c0e9",
   "metadata": {},
   "outputs": [
    {
     "name": "stdout",
     "output_type": "stream",
     "text": [
      "Occurrences of 1 : 4\n"
     ]
    }
   ],
   "source": [
    "def count_frequency_in_tuple(tup, element):\n",
    "    count = 0\n",
    "    for item in tup:\n",
    "        if item == element:\n",
    "            count += 1\n",
    "    return count\n",
    "\n",
    "# Example usage:\n",
    "my_tuple = (1, 2, 3, 4, 1, 1, 2, 1, 5)\n",
    "element_to_count = 1\n",
    "occurrences = count_frequency_in_tuple(my_tuple, element_to_count)\n",
    "print(\"Occurrences of\", element_to_count, \":\", occurrences)"
   ]
  },
  {
   "cell_type": "markdown",
   "id": "80d55252",
   "metadata": {},
   "source": [
    "53. Tuple to List: Write a Python program to convert a tuple into a list."
   ]
  },
  {
   "cell_type": "code",
   "execution_count": 57,
   "id": "43e94e96",
   "metadata": {},
   "outputs": [
    {
     "name": "stdout",
     "output_type": "stream",
     "text": [
      "Converted list: [1, 2, 3, 4, 5]\n"
     ]
    }
   ],
   "source": [
    "def tuple_to_list(tup):\n",
    "    return list(tup)\n",
    "\n",
    "# Example usage:\n",
    "my_tuple = (1, 2, 3, 4, 5)\n",
    "my_list = tuple_to_list(my_tuple)\n",
    "print(\"Converted list:\", my_list)"
   ]
  },
  {
   "cell_type": "markdown",
   "id": "e5f1b918",
   "metadata": {},
   "source": [
    "54. Tuple Reversal: Write a Python program to reverse a tuple without using any built-in functions."
   ]
  },
  {
   "cell_type": "code",
   "execution_count": 58,
   "id": "369dd4ef",
   "metadata": {},
   "outputs": [
    {
     "name": "stdout",
     "output_type": "stream",
     "text": [
      "Reversed tuple: (5, 4, 3, 2, 1)\n"
     ]
    }
   ],
   "source": [
    "def reverse_tuple(tup):\n",
    "    # Convert the tuple to a list\n",
    "    reversed_list = list(tup)\n",
    "    # Get the length of the list\n",
    "    length = len(reversed_list)\n",
    "    # Swap elements from the start and end of the list\n",
    "    for i in range(length // 2):\n",
    "        reversed_list[i], reversed_list[length - i - 1] = reversed_list[length - i - 1], reversed_list[i]\n",
    "    # Convert the reversed list back to a tuple\n",
    "    reversed_tuple = tuple(reversed_list)\n",
    "    return reversed_tuple\n",
    "\n",
    "# Example usage:\n",
    "my_tuple = (1, 2, 3, 4, 5)\n",
    "reversed_tuple = reverse_tuple(my_tuple)\n",
    "print(\"Reversed tuple:\", reversed_tuple)"
   ]
  },
  {
   "cell_type": "markdown",
   "id": "7b19ee1a",
   "metadata": {},
   "source": [
    "55. Tuple Slicing: Given a tuple, write a Python program to extract a slice of elements from it."
   ]
  },
  {
   "cell_type": "code",
   "execution_count": 59,
   "id": "bc0f228e",
   "metadata": {},
   "outputs": [
    {
     "name": "stdout",
     "output_type": "stream",
     "text": [
      "Extracted slice: (2, 3, 4)\n"
     ]
    }
   ],
   "source": [
    "def extract_slice(tup, start, end):\n",
    "    return tup[start:end]\n",
    "\n",
    "# Example usage:\n",
    "my_tuple = (1, 2, 3, 4, 5)\n",
    "start_index = 1\n",
    "end_index = 4\n",
    "extracted_slice = extract_slice(my_tuple, start_index, end_index)\n",
    "print(\"Extracted slice:\", extracted_slice)"
   ]
  },
  {
   "cell_type": "markdown",
   "id": "41730c48",
   "metadata": {},
   "source": [
    "56. Tuple Operations: Given two tuples of integers, write a Python program to perform element-wise addition, subtraction, and multiplication and create new tuples for each operation."
   ]
  },
  {
   "cell_type": "code",
   "execution_count": 60,
   "id": "d6823f73",
   "metadata": {},
   "outputs": [
    {
     "name": "stdout",
     "output_type": "stream",
     "text": [
      "Element-wise Addition: (5, 7, 9)\n",
      "Element-wise Subtraction: (-3, -3, -3)\n",
      "Element-wise Multiplication: (4, 10, 18)\n"
     ]
    }
   ],
   "source": [
    "def elementwise_operations(tuple1, tuple2):\n",
    "    # Perform element-wise addition\n",
    "    addition_result = tuple(x + y for x, y in zip(tuple1, tuple2))\n",
    "    \n",
    "    # Perform element-wise subtraction\n",
    "    subtraction_result = tuple(x - y for x, y in zip(tuple1, tuple2))\n",
    "    \n",
    "    # Perform element-wise multiplication\n",
    "    multiplication_result = tuple(x * y for x, y in zip(tuple1, tuple2))\n",
    "    \n",
    "    return addition_result, subtraction_result, multiplication_result\n",
    "\n",
    "# Example usage:\n",
    "tuple1 = (1, 2, 3)\n",
    "tuple2 = (4, 5, 6)\n",
    "\n",
    "addition_result, subtraction_result, multiplication_result = elementwise_operations(tuple1, tuple2)\n",
    "\n",
    "print(\"Element-wise Addition:\", addition_result)\n",
    "print(\"Element-wise Subtraction:\", subtraction_result)\n",
    "print(\"Element-wise Multiplication:\", multiplication_result)"
   ]
  },
  {
   "cell_type": "markdown",
   "id": "88cb6337",
   "metadata": {},
   "source": [
    "57. Tuple Membership Test: Write a Python program that takes an element as input and checks if it exists in a given tuple."
   ]
  },
  {
   "cell_type": "code",
   "execution_count": 61,
   "id": "5b404a05",
   "metadata": {},
   "outputs": [
    {
     "name": "stdout",
     "output_type": "stream",
     "text": [
      "Element 3 exists in the tuple.\n"
     ]
    }
   ],
   "source": [
    "def check_element_in_tuple(element, tup):\n",
    "    return element in tup\n",
    "\n",
    "# Example usage:\n",
    "my_tuple = (1, 2, 3, 4, 5)\n",
    "element_to_check = 3\n",
    "\n",
    "if check_element_in_tuple(element_to_check, my_tuple):\n",
    "    print(\"Element\", element_to_check, \"exists in the tuple.\")\n",
    "else:\n",
    "    print(\"Element\", element_to_check, \"does not exist in the tuple.\")"
   ]
  },
  {
   "cell_type": "markdown",
   "id": "717bbc22",
   "metadata": {},
   "source": [
    "58. Tuple Packing: Write a Python program to pack three variables into a single tuple and print the tuple."
   ]
  },
  {
   "cell_type": "code",
   "execution_count": 62,
   "id": "2e1e8662",
   "metadata": {},
   "outputs": [
    {
     "name": "stdout",
     "output_type": "stream",
     "text": [
      "Packed tuple: (10, 'Hello', [1, 2, 3])\n"
     ]
    }
   ],
   "source": [
    "def pack_variables_into_tuple(var1, var2, var3):\n",
    "    return (var1, var2, var3)\n",
    "\n",
    "# Example usage:\n",
    "variable1 = 10\n",
    "variable2 = \"Hello\"\n",
    "variable3 = [1, 2, 3]\n",
    "\n",
    "packed_tuple = pack_variables_into_tuple(variable1, variable2, variable3)\n",
    "print(\"Packed tuple:\", packed_tuple)"
   ]
  },
  {
   "cell_type": "markdown",
   "id": "a0c36af7",
   "metadata": {},
   "source": [
    "# Nested List Problems:"
   ]
  },
  {
   "cell_type": "markdown",
   "id": "12c1c26b",
   "metadata": {},
   "source": [
    "59. Nested List Element Access: Given a nested list, write a Python program to access and print specific elements from it."
   ]
  },
  {
   "cell_type": "code",
   "execution_count": 63,
   "id": "ea416e10",
   "metadata": {},
   "outputs": [
    {
     "name": "stdout",
     "output_type": "stream",
     "text": [
      "Element at row 1 and column 2 : 6\n"
     ]
    }
   ],
   "source": [
    "def print_specific_elements(nested_list, row_index, col_index):\n",
    "    if row_index < len(nested_list) and col_index < len(nested_list[row_index]):\n",
    "        print(\"Element at row\", row_index, \"and column\", col_index, \":\", nested_list[row_index][col_index])\n",
    "    else:\n",
    "        print(\"Invalid indices provided.\")\n",
    "\n",
    "# Example usage:\n",
    "my_nested_list = [[1, 2, 3], [4, 5, 6], [7, 8, 9]]\n",
    "row_index = 1\n",
    "col_index = 2\n",
    "\n",
    "print_specific_elements(my_nested_list, row_index, col_index)"
   ]
  },
  {
   "cell_type": "markdown",
   "id": "22d866c8",
   "metadata": {},
   "source": [
    "60. Nested List Flattening: Write a Python program to flatten a nested list and convert it into a single-dimensional list."
   ]
  },
  {
   "cell_type": "code",
   "execution_count": 64,
   "id": "257470b1",
   "metadata": {},
   "outputs": [
    {
     "name": "stdout",
     "output_type": "stream",
     "text": [
      "Flattened list: [1, 2, 3, 4, 5, 6, 7, 8, 9]\n"
     ]
    }
   ],
   "source": [
    "def flatten_list(nested_list):\n",
    "    flat_list = []\n",
    "    for item in nested_list:\n",
    "        if isinstance(item, list):\n",
    "            flat_list.extend(flatten_list(item))\n",
    "        else:\n",
    "            flat_list.append(item)\n",
    "    return flat_list\n",
    "\n",
    "# Example usage:\n",
    "nested_list = [[1, 2, 3], [4, [5, 6]], 7, [8, 9]]\n",
    "flat_list = flatten_list(nested_list)\n",
    "print(\"Flattened list:\", flat_list)"
   ]
  },
  {
   "cell_type": "markdown",
   "id": "024ffee4",
   "metadata": {},
   "source": [
    "61. Nested List Sorting: Given a nested list containing lists of integers, write a Python program to sort the sublists based on their lengths."
   ]
  },
  {
   "cell_type": "code",
   "execution_count": 65,
   "id": "cf57c9fc",
   "metadata": {},
   "outputs": [
    {
     "name": "stdout",
     "output_type": "stream",
     "text": [
      "Sorted sublists based on their lengths: [[10], [4, 5], [1, 2, 3], [6, 7, 8, 9]]\n"
     ]
    }
   ],
   "source": [
    "def sort_sublists_by_length(nested_list):\n",
    "    sorted_nested_list = sorted(nested_list, key=len)\n",
    "    return sorted_nested_list\n",
    "\n",
    "# Example usage:\n",
    "nested_list = [[1, 2, 3], [4, 5], [6, 7, 8, 9], [10]]\n",
    "sorted_nested_list = sort_sublists_by_length(nested_list)\n",
    "print(\"Sorted sublists based on their lengths:\", sorted_nested_list)"
   ]
  },
  {
   "cell_type": "markdown",
   "id": "4134c649",
   "metadata": {},
   "source": [
    "62. List of Tuples Conversion: Given a nested list containing tuples of (x, y) coordinates, write a Python program to convert it into a list of x-coordinates and a list of y-coordinates."
   ]
  },
  {
   "cell_type": "code",
   "execution_count": 66,
   "id": "0524c55d",
   "metadata": {},
   "outputs": [
    {
     "name": "stdout",
     "output_type": "stream",
     "text": [
      "List of x-coordinates: [1, 3, 5, 7]\n",
      "List of y-coordinates: [2, 4, 6, 8]\n"
     ]
    }
   ],
   "source": [
    "def extract_coordinates(nested_list):\n",
    "    x_coordinates = []\n",
    "    y_coordinates = []\n",
    "    for sublist in nested_list:\n",
    "        for tuple_coord in sublist:\n",
    "            x_coordinates.append(tuple_coord[0])  # Extract x-coordinate\n",
    "            y_coordinates.append(tuple_coord[1])  # Extract y-coordinate\n",
    "    return x_coordinates, y_coordinates\n",
    "\n",
    "# Example usage:\n",
    "nested_list = [[(1, 2), (3, 4)], [(5, 6), (7, 8)]]\n",
    "x_coords, y_coords = extract_coordinates(nested_list)\n",
    "print(\"List of x-coordinates:\", x_coords)\n",
    "print(\"List of y-coordinates:\", y_coords)"
   ]
  },
  {
   "cell_type": "markdown",
   "id": "3f327e9d",
   "metadata": {},
   "source": [
    "63. Matrix Transpose: Write a Python program to transpose a given matrix represented as a nested list."
   ]
  },
  {
   "cell_type": "code",
   "execution_count": 67,
   "id": "ce155284",
   "metadata": {},
   "outputs": [
    {
     "name": "stdout",
     "output_type": "stream",
     "text": [
      "Original Matrix:\n",
      "[1, 2, 3]\n",
      "[4, 5, 6]\n",
      "[7, 8, 9]\n",
      "\n",
      "Transposed Matrix:\n",
      "[1, 4, 7]\n",
      "[2, 5, 8]\n",
      "[3, 6, 9]\n"
     ]
    }
   ],
   "source": [
    "def transpose_matrix(matrix):\n",
    "    # Get the number of rows and columns in the original matrix\n",
    "    num_rows = len(matrix)\n",
    "    num_cols = len(matrix[0])\n",
    "\n",
    "    # Initialize an empty matrix for the transpose\n",
    "    transpose = []\n",
    "\n",
    "    # Iterate over columns of the original matrix\n",
    "    for j in range(num_cols):\n",
    "        # Initialize a new row for the transpose matrix\n",
    "        new_row = []\n",
    "        # Iterate over rows of the original matrix\n",
    "        for i in range(num_rows):\n",
    "            # Add the element at the current column and row to the new row\n",
    "            new_row.append(matrix[i][j])\n",
    "        # Add the new row to the transpose matrix\n",
    "        transpose.append(new_row)\n",
    "\n",
    "    return transpose\n",
    "\n",
    "# Example usage:\n",
    "original_matrix = [[1, 2, 3],\n",
    "                   [4, 5, 6],\n",
    "                   [7, 8, 9]]\n",
    "\n",
    "transposed_matrix = transpose_matrix(original_matrix)\n",
    "print(\"Original Matrix:\")\n",
    "for row in original_matrix:\n",
    "    print(row)\n",
    "\n",
    "print(\"\\nTransposed Matrix:\")\n",
    "for row in transposed_matrix:\n",
    "    print(row)"
   ]
  },
  {
   "cell_type": "markdown",
   "id": "9ea1b429",
   "metadata": {},
   "source": [
    "64. Nested List Concatenation: Given a list of nested lists, write a Python program to concatenate all the sublists into a single flat list."
   ]
  },
  {
   "cell_type": "code",
   "execution_count": 68,
   "id": "580c5bce",
   "metadata": {},
   "outputs": [
    {
     "name": "stdout",
     "output_type": "stream",
     "text": [
      "Flat list: [1, 2, 3, 4, 5, 6, 7, 8]\n"
     ]
    }
   ],
   "source": [
    "def concatenate_nested_lists(nested_list):\n",
    "    flat_list = [item for sublist in nested_list for item in sublist]\n",
    "    return flat_list\n",
    "\n",
    "# Example usage:\n",
    "nested_list = [[1, 2, 3], [4, 5], [6, 7, 8]]\n",
    "flat_list = concatenate_nested_lists(nested_list)\n",
    "print(\"Flat list:\", flat_list)"
   ]
  },
  {
   "cell_type": "markdown",
   "id": "caaaaf39",
   "metadata": {},
   "source": [
    "65. Count Even Numbers: Write a Python program to count the number of even numbers in a nested list."
   ]
  },
  {
   "cell_type": "code",
   "execution_count": 69,
   "id": "ee235c2a",
   "metadata": {},
   "outputs": [
    {
     "name": "stdout",
     "output_type": "stream",
     "text": [
      "Number of even numbers: 4\n"
     ]
    }
   ],
   "source": [
    "def count_even_numbers(nested_list):\n",
    "    count = 0\n",
    "    for sublist in nested_list:\n",
    "        for number in sublist:\n",
    "            if number % 2 == 0:\n",
    "                count += 1\n",
    "    return count\n",
    "\n",
    "# Example usage:\n",
    "nested_list = [[1, 2, 3], [4, 5, 6], [7, 8, 9]]\n",
    "even_count = count_even_numbers(nested_list)\n",
    "print(\"Number of even numbers:\", even_count)"
   ]
  },
  {
   "cell_type": "markdown",
   "id": "3ebb44b3",
   "metadata": {},
   "source": [
    "66. Maximum Element in Nested List: Write a Python program to find the maximum element in a nested list of integers."
   ]
  },
  {
   "cell_type": "code",
   "execution_count": 70,
   "id": "806774f6",
   "metadata": {},
   "outputs": [
    {
     "name": "stdout",
     "output_type": "stream",
     "text": [
      "Maximum element: 9\n"
     ]
    }
   ],
   "source": [
    "def find_max_in_nested_list(nested_list):\n",
    "    max_element = float('-inf')  # Initialize max_element to negative infinity\n",
    "    for sublist in nested_list:\n",
    "        for number in sublist:\n",
    "            if number > max_element:\n",
    "                max_element = number\n",
    "    return max_element\n",
    "\n",
    "# Example usage:\n",
    "nested_list = [[1, 2, 3], [4, 5, 6], [7, 8, 9]]\n",
    "max_element = find_max_in_nested_list(nested_list)\n",
    "print(\"Maximum element:\", max_element)"
   ]
  },
  {
   "cell_type": "markdown",
   "id": "281bcb47",
   "metadata": {},
   "source": [
    "67. Diagonal Sum of Matrix: Given a square matrix represented as a nested list, write a Python program to calculate the sum of the elements in the main diagonal."
   ]
  },
  {
   "cell_type": "code",
   "execution_count": 71,
   "id": "c54e5410",
   "metadata": {},
   "outputs": [
    {
     "name": "stdout",
     "output_type": "stream",
     "text": [
      "Sum of elements in the main diagonal: 15\n"
     ]
    }
   ],
   "source": [
    "def sum_main_diagonal(matrix):\n",
    "    diagonal_sum = 0\n",
    "    for i in range(len(matrix)):\n",
    "        diagonal_sum += matrix[i][i]\n",
    "    return diagonal_sum\n",
    "\n",
    "# Example usage:\n",
    "matrix = [[1, 2, 3],\n",
    "          [4, 5, 6],\n",
    "          [7, 8, 9]]\n",
    "\n",
    "diagonal_sum = sum_main_diagonal(matrix)\n",
    "print(\"Sum of elements in the main diagonal:\", diagonal_sum)"
   ]
  },
  {
   "cell_type": "markdown",
   "id": "2a4bf491",
   "metadata": {},
   "source": [
    "68. Nested List Element Search: Write a Python program to search for a specific element in a nested list and return its position (row and column indices)."
   ]
  },
  {
   "cell_type": "code",
   "execution_count": 72,
   "id": "d6cfec29",
   "metadata": {},
   "outputs": [
    {
     "name": "stdout",
     "output_type": "stream",
     "text": [
      "Element 5 found at position (row, col): (1, 1)\n"
     ]
    }
   ],
   "source": [
    "def search_element_in_nested_list(nested_list, target):\n",
    "    for i in range(len(nested_list)):\n",
    "        for j in range(len(nested_list[i])):\n",
    "            if nested_list[i][j] == target:\n",
    "                return i, j  # Return row and column indices if element is found\n",
    "    return None  # Return None if element is not found\n",
    "\n",
    "# Example usage:\n",
    "nested_list = [[1, 2, 3], [4, 5, 6], [7, 8, 9]]\n",
    "target = 5\n",
    "\n",
    "position = search_element_in_nested_list(nested_list, target)\n",
    "if position:\n",
    "    print(\"Element\", target, \"found at position (row, col):\", position)\n",
    "else:\n",
    "    print(\"Element\", target, \"not found in the nested list.\")"
   ]
  },
  {
   "cell_type": "markdown",
   "id": "f56b8816",
   "metadata": {},
   "source": [
    "# Set Problems:"
   ]
  },
  {
   "cell_type": "markdown",
   "id": "05983b20",
   "metadata": {},
   "source": [
    "69. Duplicate Removal: Write a Python program that takes a list of elements as input and creates a new set containing only the unique elements from the list."
   ]
  },
  {
   "cell_type": "code",
   "execution_count": 73,
   "id": "66b3ba8e",
   "metadata": {},
   "outputs": [
    {
     "name": "stdout",
     "output_type": "stream",
     "text": [
      "Unique elements set: {1, 2, 3, 4, 5}\n"
     ]
    }
   ],
   "source": [
    "def create_unique_set(input_list):\n",
    "    unique_set = set(input_list)\n",
    "    return unique_set\n",
    "\n",
    "# Example usage:\n",
    "input_list = [1, 2, 3, 4, 1, 2, 3, 5]\n",
    "unique_set = create_unique_set(input_list)\n",
    "print(\"Unique elements set:\", unique_set)"
   ]
  },
  {
   "cell_type": "markdown",
   "id": "d878f897",
   "metadata": {},
   "source": [
    "70. Set Intersection: Given two sets A and B, write a Python program to find their intersection and print the common elements."
   ]
  },
  {
   "cell_type": "code",
   "execution_count": 74,
   "id": "3fc6734b",
   "metadata": {},
   "outputs": [
    {
     "name": "stdout",
     "output_type": "stream",
     "text": [
      "Intersection of set A and set B: {4, 5}\n"
     ]
    }
   ],
   "source": [
    "def find_intersection(set_A, set_B):\n",
    "    common_elements = set_A & set_B\n",
    "    return common_elements\n",
    "\n",
    "# Example usage:\n",
    "set_A = {1, 2, 3, 4, 5}\n",
    "set_B = {4, 5, 6, 7, 8}\n",
    "\n",
    "intersection_set = find_intersection(set_A, set_B)\n",
    "print(\"Intersection of set A and set B:\", intersection_set)"
   ]
  },
  {
   "cell_type": "markdown",
   "id": "d47612e4",
   "metadata": {},
   "source": [
    "71. Set Union: Given two sets A and B, write a Python program to find their union and print all the distinct elements from both sets."
   ]
  },
  {
   "cell_type": "code",
   "execution_count": 75,
   "id": "1f5565a9",
   "metadata": {},
   "outputs": [
    {
     "name": "stdout",
     "output_type": "stream",
     "text": [
      "Union of set A and set B: {1, 2, 3, 4, 5, 6, 7, 8}\n"
     ]
    }
   ],
   "source": [
    "def find_union(set_A, set_B):\n",
    "    union_set = set_A.union(set_B)\n",
    "    return union_set\n",
    "\n",
    "# Example usage:\n",
    "set_A = {1, 2, 3, 4, 5}\n",
    "set_B = {4, 5, 6, 7, 8}\n",
    "\n",
    "union_set = find_union(set_A, set_B)\n",
    "print(\"Union of set A and set B:\", union_set)"
   ]
  },
  {
   "cell_type": "markdown",
   "id": "b0ba95c1",
   "metadata": {},
   "source": [
    "72. Set Difference: Given two sets A and B, write a Python program to find the difference between set A and set B (i.e., elements present in A but not in B) and print the result."
   ]
  },
  {
   "cell_type": "code",
   "execution_count": 76,
   "id": "71fb531d",
   "metadata": {},
   "outputs": [
    {
     "name": "stdout",
     "output_type": "stream",
     "text": [
      "Difference between set A and set B: {1, 2, 3}\n"
     ]
    }
   ],
   "source": [
    "def find_difference(set_A, set_B):\n",
    "    difference_set = set_A.difference(set_B)\n",
    "    return difference_set\n",
    "\n",
    "# Example usage:\n",
    "set_A = {1, 2, 3, 4, 5}\n",
    "set_B = {4, 5, 6, 7, 8}\n",
    "\n",
    "difference_set = find_difference(set_A, set_B)\n",
    "print(\"Difference between set A and set B:\", difference_set)"
   ]
  },
  {
   "cell_type": "markdown",
   "id": "3a4d0426",
   "metadata": {},
   "source": [
    "73. Set Symmetric Difference: Given two sets A and B, write a Python program to find the symmetric difference between the two sets (i.e., elements that are present in either set A or set B, but not in both) and print the result."
   ]
  },
  {
   "cell_type": "code",
   "execution_count": 77,
   "id": "ab8c4842",
   "metadata": {},
   "outputs": [
    {
     "name": "stdout",
     "output_type": "stream",
     "text": [
      "Symmetric difference between set A and set B: {1, 2, 3, 6, 7, 8}\n"
     ]
    }
   ],
   "source": [
    "def find_symmetric_difference(set_A, set_B):\n",
    "    symmetric_difference_set = set_A ^ set_B\n",
    "    return symmetric_difference_set\n",
    "\n",
    "# Example usage:\n",
    "set_A = {1, 2, 3, 4, 5}\n",
    "set_B = {4, 5, 6, 7, 8}\n",
    "\n",
    "symmetric_difference_set = find_symmetric_difference(set_A, set_B)\n",
    "print(\"Symmetric difference between set A and set B:\", symmetric_difference_set)"
   ]
  },
  {
   "cell_type": "markdown",
   "id": "ea8a7fc2",
   "metadata": {},
   "source": [
    "74. Set Operations: Given three sets A, B, and C, write a Python program to find and print the intersection of A and B, the union of B and C, and the difference between C and A."
   ]
  },
  {
   "cell_type": "code",
   "execution_count": 78,
   "id": "4f065d34",
   "metadata": {},
   "outputs": [
    {
     "name": "stdout",
     "output_type": "stream",
     "text": [
      "Intersection of A and B: {4, 5}\n",
      "Union of B and C: {1, 3, 4, 5, 6, 7, 8, 9}\n",
      "Difference between C and A: {9, 7}\n"
     ]
    }
   ],
   "source": [
    "def set_operations(set_A, set_B, set_C):\n",
    "    # Intersection of A and B\n",
    "    intersection_AB = set_A.intersection(set_B)\n",
    "\n",
    "    # Union of B and C\n",
    "    union_BC = set_B.union(set_C)\n",
    "\n",
    "    # Difference between C and A\n",
    "    difference_CA = set_C.difference(set_A)\n",
    "\n",
    "    return intersection_AB, union_BC, difference_CA\n",
    "\n",
    "# Example usage:\n",
    "set_A = {1, 2, 3, 4, 5}\n",
    "set_B = {4, 5, 6, 7, 8}\n",
    "set_C = {1, 3, 5, 7, 9}\n",
    "\n",
    "intersection_AB, union_BC, difference_CA = set_operations(set_A, set_B, set_C)\n",
    "\n",
    "print(\"Intersection of A and B:\", intersection_AB)\n",
    "print(\"Union of B and C:\", union_BC)\n",
    "print(\"Difference between C and A:\", difference_CA)"
   ]
  },
  {
   "cell_type": "markdown",
   "id": "91e53483",
   "metadata": {},
   "source": [
    "75. Set Subset Check: Given two sets A and B, write a Python program to check if set A is a subset of set B and print the result."
   ]
  },
  {
   "cell_type": "code",
   "execution_count": 79,
   "id": "7f049f20",
   "metadata": {},
   "outputs": [
    {
     "name": "stdout",
     "output_type": "stream",
     "text": [
      "Set A is a subset of set B.\n"
     ]
    }
   ],
   "source": [
    "def check_subset(set_A, set_B):\n",
    "    return set_A <= set_B\n",
    "\n",
    "# Example usage:\n",
    "set_A = {1, 2, 3}\n",
    "set_B = {1, 2, 3, 4, 5}\n",
    "\n",
    "is_subset = check_subset(set_A, set_B)\n",
    "if is_subset:\n",
    "    print(\"Set A is a subset of set B.\")\n",
    "else:\n",
    "    print(\"Set A is not a subset of set B.\")"
   ]
  },
  {
   "cell_type": "markdown",
   "id": "4f6abae3",
   "metadata": {},
   "source": [
    "76. Set Superset Check: Given two sets A and B, write a Python program to check if set A is a superset of set B and print the result."
   ]
  },
  {
   "cell_type": "code",
   "execution_count": 80,
   "id": "59c59e43",
   "metadata": {},
   "outputs": [
    {
     "name": "stdout",
     "output_type": "stream",
     "text": [
      "Set A is a superset of set B.\n"
     ]
    }
   ],
   "source": [
    "def check_superset(set_A, set_B):\n",
    "    return set_A >= set_B\n",
    "\n",
    "# Example usage:\n",
    "set_A = {1, 2, 3, 4, 5}\n",
    "set_B = {1, 2, 3}\n",
    "\n",
    "is_superset = check_superset(set_A, set_B)\n",
    "if is_superset:\n",
    "    print(\"Set A is a superset of set B.\")\n",
    "else:\n",
    "    print(\"Set A is not a superset of set B.\")"
   ]
  },
  {
   "cell_type": "markdown",
   "id": "640fdd75",
   "metadata": {},
   "source": [
    "77. Set Length Check: Write a Python program that takes a set as input and prints the number of elements in the set."
   ]
  },
  {
   "cell_type": "code",
   "execution_count": 81,
   "id": "a1f3c7c3",
   "metadata": {},
   "outputs": [
    {
     "name": "stdout",
     "output_type": "stream",
     "text": [
      "Number of elements in the set: 5\n"
     ]
    }
   ],
   "source": [
    "def count_elements(input_set):\n",
    "    return len(input_set)\n",
    "\n",
    "# Example usage:\n",
    "input_set = {1, 2, 3, 4, 5}\n",
    "num_elements = count_elements(input_set)\n",
    "print(\"Number of elements in the set:\", num_elements)"
   ]
  },
  {
   "cell_type": "markdown",
   "id": "989832bb",
   "metadata": {},
   "source": [
    "76. Set Membership Test: Write a Python program that takes an element as input and checks if it exists in a given set. Print “Found” if the element is present and “Not Found” otherwise."
   ]
  },
  {
   "cell_type": "code",
   "execution_count": 82,
   "id": "cd380632",
   "metadata": {},
   "outputs": [
    {
     "name": "stdout",
     "output_type": "stream",
     "text": [
      "Enter the element to check: 5\n",
      "Found\n"
     ]
    }
   ],
   "source": [
    "def check_element_existence(input_set, element):\n",
    "    if element in input_set:\n",
    "        print(\"Found\")\n",
    "    else:\n",
    "        print(\"Not Found\")\n",
    "\n",
    "# Example usage:\n",
    "input_set = {1, 2, 3, 4, 5}\n",
    "element_to_check = int(input(\"Enter the element to check: \"))\n",
    "\n",
    "check_element_existence(input_set, element_to_check)"
   ]
  },
  {
   "cell_type": "markdown",
   "id": "d8086711",
   "metadata": {},
   "source": [
    "# Dictionary Problems:"
   ]
  },
  {
   "cell_type": "markdown",
   "id": "e08c0b1d",
   "metadata": {},
   "source": [
    "77. Dictionary Manipulation: Given a dictionary with student names as keys and their corresponding scores as values, write a Python program to add a new student to the dictionary and update the score of an existing student."
   ]
  },
  {
   "cell_type": "code",
   "execution_count": 83,
   "id": "411d7f35",
   "metadata": {},
   "outputs": [
    {
     "name": "stdout",
     "output_type": "stream",
     "text": [
      "Updated student scores: {'Alice': 90, 'Bob': 87, 'Charlie': 95, 'David': 88}\n"
     ]
    }
   ],
   "source": [
    "def add_or_update_student_scores(student_scores, student_name, score):\n",
    "    # Add or update the student's score\n",
    "    student_scores[student_name] = score\n",
    "\n",
    "# Example usage:\n",
    "student_scores = {'Alice': 90, 'Bob': 85, 'Charlie': 95}\n",
    "\n",
    "# Add a new student or update an existing student's score\n",
    "add_or_update_student_scores(student_scores, 'David', 88)  # Adding a new student\n",
    "add_or_update_student_scores(student_scores, 'Bob', 87)    # Updating an existing student's score\n",
    "\n",
    "# Print the updated dictionary\n",
    "print(\"Updated student scores:\", student_scores)"
   ]
  },
  {
   "cell_type": "markdown",
   "id": "aa2c25d0",
   "metadata": {},
   "source": [
    "78. Dictionary Keys and Values: Write a Python program that takes a dictionary as input and prints all the keys and values in separate lines."
   ]
  },
  {
   "cell_type": "code",
   "execution_count": 84,
   "id": "2e4fc277",
   "metadata": {},
   "outputs": [
    {
     "name": "stdout",
     "output_type": "stream",
     "text": [
      "Printing keys and values of the dictionary:\n",
      "Key: Alice\n",
      "Value: 90\n",
      "\n",
      "Key: Bob\n",
      "Value: 85\n",
      "\n",
      "Key: Charlie\n",
      "Value: 95\n",
      "\n"
     ]
    }
   ],
   "source": [
    "def print_dict_keys_values(input_dict):\n",
    "    for key, value in input_dict.items():\n",
    "        print(\"Key:\", key)\n",
    "        print(\"Value:\", value)\n",
    "        print()\n",
    "\n",
    "# Example usage:\n",
    "input_dict = {'Alice': 90, 'Bob': 85, 'Charlie': 95}\n",
    "print(\"Printing keys and values of the dictionary:\")\n",
    "print_dict_keys_values(input_dict)"
   ]
  },
  {
   "cell_type": "markdown",
   "id": "7b7513b2",
   "metadata": {},
   "source": [
    "79. Dictionary Length: Write a Python program to calculate and print the number of key-value pairs in a given dictionary."
   ]
  },
  {
   "cell_type": "code",
   "execution_count": 85,
   "id": "11a44e46",
   "metadata": {},
   "outputs": [
    {
     "name": "stdout",
     "output_type": "stream",
     "text": [
      "Number of key-value pairs in the dictionary: 3\n"
     ]
    }
   ],
   "source": [
    "def count_key_value_pairs(input_dict):\n",
    "    return len(input_dict)\n",
    "\n",
    "# Example usage:\n",
    "input_dict = {'Alice': 90, 'Bob': 85, 'Charlie': 95}\n",
    "num_pairs = count_key_value_pairs(input_dict)\n",
    "print(\"Number of key-value pairs in the dictionary:\", num_pairs)"
   ]
  },
  {
   "cell_type": "markdown",
   "id": "163f5cf6",
   "metadata": {},
   "source": [
    "80. Dictionary Value Search: Given a dictionary of items and their prices, write a Python program to search for an item based on its price and print the item’s name."
   ]
  },
  {
   "cell_type": "code",
   "execution_count": 86,
   "id": "b26a99a1",
   "metadata": {},
   "outputs": [
    {
     "name": "stdout",
     "output_type": "stream",
     "text": [
      "The item with price $0.99 is: Banana\n"
     ]
    }
   ],
   "source": [
    "def search_item_by_price(item_prices, target_price):\n",
    "    for item, price in item_prices.items():\n",
    "        if price == target_price:\n",
    "            return item\n",
    "    return None  # Return None if no item matches the given price\n",
    "\n",
    "# Example usage:\n",
    "item_prices = {'Apple': 1.99, 'Banana': 0.99, 'Orange': 2.49}\n",
    "target_price = 0.99\n",
    "\n",
    "item_name = search_item_by_price(item_prices, target_price)\n",
    "if item_name:\n",
    "    print(f\"The item with price ${target_price} is: {item_name}\")\n",
    "else:\n",
    "    print(\"No item found with the given price.\")"
   ]
  },
  {
   "cell_type": "markdown",
   "id": "d3055a91",
   "metadata": {},
   "source": [
    "81. Dictionary Merging: Given two dictionaries, write a Python program to merge them into a single dictionary and print the result."
   ]
  },
  {
   "cell_type": "code",
   "execution_count": 87,
   "id": "c099940d",
   "metadata": {},
   "outputs": [
    {
     "name": "stdout",
     "output_type": "stream",
     "text": [
      "Merged dictionary: {'a': 1, 'b': 2, 'c': 3, 'd': 4}\n"
     ]
    }
   ],
   "source": [
    "def merge_dictionaries(dict1, dict2):\n",
    "    merged_dict = dict1.copy()\n",
    "    merged_dict.update(dict2)\n",
    "    return merged_dict\n",
    "\n",
    "# Example usage:\n",
    "dict1 = {'a': 1, 'b': 2}\n",
    "dict2 = {'c': 3, 'd': 4}\n",
    "\n",
    "merged_dict = merge_dictionaries(dict1, dict2)\n",
    "print(\"Merged dictionary:\", merged_dict)"
   ]
  },
  {
   "cell_type": "markdown",
   "id": "0b65c6b1",
   "metadata": {},
   "source": [
    "82. Dictionary Key Removal: Given a dictionary of items and their quantities, write a Python program to remove a specific item from the dictionary based on user input."
   ]
  },
  {
   "cell_type": "code",
   "execution_count": 88,
   "id": "fa0ee7f8",
   "metadata": {},
   "outputs": [
    {
     "name": "stdout",
     "output_type": "stream",
     "text": [
      "Enter the item you want to remove: Apple\n",
      "The item 'Apple' has been removed from the dictionary.\n",
      "Updated dictionary: {'Banana': 15, 'Orange': 20}\n"
     ]
    }
   ],
   "source": [
    "def remove_item(dictionary, item_to_remove):\n",
    "    if item_to_remove in dictionary:\n",
    "        dictionary.pop(item_to_remove)\n",
    "        print(f\"The item '{item_to_remove}' has been removed from the dictionary.\")\n",
    "    else:\n",
    "        print(f\"The item '{item_to_remove}' is not present in the dictionary.\")\n",
    "\n",
    "# Example usage:\n",
    "item_quantities = {'Apple': 10, 'Banana': 15, 'Orange': 20}\n",
    "\n",
    "item_to_remove = input(\"Enter the item you want to remove: \")\n",
    "\n",
    "remove_item(item_quantities, item_to_remove)\n",
    "print(\"Updated dictionary:\", item_quantities)"
   ]
  },
  {
   "cell_type": "markdown",
   "id": "e56b12a2",
   "metadata": {},
   "source": [
    "83. Dictionary Sorting: Given a dictionary with names as keys and corresponding ages as values, write a Python program to sort the dictionary based on age in ascending order."
   ]
  },
  {
   "cell_type": "code",
   "execution_count": 89,
   "id": "2094442b",
   "metadata": {},
   "outputs": [
    {
     "name": "stdout",
     "output_type": "stream",
     "text": [
      "Sorted dictionary by age in ascending order: {'Bob': 20, 'Alice': 25, 'Charlie': 30}\n"
     ]
    }
   ],
   "source": [
    "def sort_dictionary_by_age(input_dict):\n",
    "    return dict(sorted(input_dict.items(), key=lambda item: item[1]))\n",
    "\n",
    "# Example usage:\n",
    "name_age_dict = {'Alice': 25, 'Bob': 20, 'Charlie': 30}\n",
    "\n",
    "sorted_dict = sort_dictionary_by_age(name_age_dict)\n",
    "print(\"Sorted dictionary by age in ascending order:\", sorted_dict)"
   ]
  },
  {
   "cell_type": "markdown",
   "id": "8fadbba1",
   "metadata": {},
   "source": [
    "84. Dictionary Frequency Count: Write a Python program that takes a string as input and creates a dictionary containing each character as a key and its frequency as the value."
   ]
  },
  {
   "cell_type": "code",
   "execution_count": 90,
   "id": "5f92e1ae",
   "metadata": {},
   "outputs": [
    {
     "name": "stdout",
     "output_type": "stream",
     "text": [
      "Enter a string: bangladesh\n",
      "Character frequency dictionary: {'b': 1, 'a': 2, 'n': 1, 'g': 1, 'l': 1, 'd': 1, 'e': 1, 's': 1, 'h': 1}\n"
     ]
    }
   ],
   "source": [
    "def character_frequency(string):\n",
    "    frequency_dict = {}\n",
    "    for char in string:\n",
    "        frequency_dict[char] = frequency_dict.get(char, 0) + 1\n",
    "    return frequency_dict\n",
    "\n",
    "# Example usage:\n",
    "input_string = input(\"Enter a string: \")\n",
    "frequency_dict = character_frequency(input_string)\n",
    "print(\"Character frequency dictionary:\", frequency_dict)"
   ]
  },
  {
   "cell_type": "markdown",
   "id": "28eb01b7",
   "metadata": {},
   "source": [
    "85. Dictionary Comprehension: Given a list of integers, write a Python program to create a dictionary where the keys are the elements from the list, and the values are their squares."
   ]
  },
  {
   "cell_type": "code",
   "execution_count": 91,
   "id": "56f53a55",
   "metadata": {},
   "outputs": [
    {
     "name": "stdout",
     "output_type": "stream",
     "text": [
      "Dictionary with elements and their squares: {1: 1, 2: 4, 3: 9, 4: 16, 5: 25}\n"
     ]
    }
   ],
   "source": [
    "def create_squared_dict(input_list):\n",
    "    squared_dict = {}\n",
    "    for num in input_list:\n",
    "        squared_dict[num] = num ** 2\n",
    "    return squared_dict\n",
    "\n",
    "# Example usage:\n",
    "input_list = [1, 2, 3, 4, 5]\n",
    "squared_dict = create_squared_dict(input_list)\n",
    "print(\"Dictionary with elements and their squares:\", squared_dict)"
   ]
  },
  {
   "cell_type": "markdown",
   "id": "b00a2f7d",
   "metadata": {},
   "source": [
    "86. Dictionary Key Check: Write a Python program that takes a key as input and checks if it exists in a given dictionary. Print “Key Found” if the key is present and “Key Not Found” otherwise."
   ]
  },
  {
   "cell_type": "code",
   "execution_count": 92,
   "id": "6de4b3fe",
   "metadata": {},
   "outputs": [
    {
     "name": "stdout",
     "output_type": "stream",
     "text": [
      "Enter the key to check: b\n",
      "Key Found\n"
     ]
    }
   ],
   "source": [
    "def check_key_existence(input_dict, key):\n",
    "    if key in input_dict:\n",
    "        print(\"Key Found\")\n",
    "    else:\n",
    "        print(\"Key Not Found\")\n",
    "\n",
    "# Example usage:\n",
    "input_dict = {'a': 1, 'b': 2, 'c': 3}\n",
    "\n",
    "key_to_check = input(\"Enter the key to check: \")\n",
    "check_key_existence(input_dict, key_to_check)"
   ]
  },
  {
   "cell_type": "markdown",
   "id": "446fd1d7",
   "metadata": {},
   "source": [
    "# Nested Dictionary Problems:"
   ]
  },
  {
   "cell_type": "markdown",
   "id": "f3ae7122",
   "metadata": {},
   "source": [
    "87. Access Nested Dictionary: Given a nested dictionary containing student details, write a Python program to access and print specific information such as a student’s name, age, and address."
   ]
  },
  {
   "cell_type": "code",
   "execution_count": 94,
   "id": "de32913f",
   "metadata": {},
   "outputs": [
    {
     "name": "stdout",
     "output_type": "stream",
     "text": [
      "Enter student ID: 3\n",
      "Student Name: Charlie\n",
      "Student Age: N/A\n",
      "Student Address: 456 Road, Town\n"
     ]
    }
   ],
   "source": [
    "def print_student_details(student_details, student_id):\n",
    "    if student_id in student_details:\n",
    "        student = student_details[student_id]\n",
    "        print(\"Student Name:\", student.get('name', 'N/A'))\n",
    "        print(\"Student Age:\", student.get('age', 'N/A'))\n",
    "        print(\"Student Address:\", student.get('address', 'N/A'))\n",
    "    else:\n",
    "        print(\"Student with ID\", student_id, \"not found.\")\n",
    "\n",
    "# Example usage:\n",
    "student_details = {\n",
    "    '1': {'name': 'Alice', 'age': 20, 'address': '123 Street, City'},\n",
    "    '2': {'name': 'Bob', 'age': 22},\n",
    "    '3': {'name': 'Charlie', 'address': '456 Road, Town'}\n",
    "}\n",
    "\n",
    "student_id = input(\"Enter student ID: \")\n",
    "print_student_details(student_details, student_id)"
   ]
  },
  {
   "cell_type": "markdown",
   "id": "7034533e",
   "metadata": {},
   "source": [
    "88. Nested Dictionary Length: Write a Python program to calculate and print the total number of key-value pairs in a nested dictionary."
   ]
  },
  {
   "cell_type": "code",
   "execution_count": 95,
   "id": "742d378b",
   "metadata": {},
   "outputs": [
    {
     "name": "stdout",
     "output_type": "stream",
     "text": [
      "Total number of key-value pairs in the nested dictionary: 10\n"
     ]
    }
   ],
   "source": [
    "def count_key_value_pairs(nested_dict):\n",
    "    count = 0\n",
    "    for value in nested_dict.values():\n",
    "        if isinstance(value, dict):\n",
    "            count += count_key_value_pairs(value)\n",
    "    return count + len(nested_dict)\n",
    "\n",
    "# Example usage:\n",
    "nested_dict = {\n",
    "    'A': {\n",
    "        'a1': 1,\n",
    "        'a2': 2,\n",
    "        'a3': {\n",
    "            'a3a': 3,\n",
    "            'a3b': 4\n",
    "        }\n",
    "    },\n",
    "    'B': {\n",
    "        'b1': 5,\n",
    "        'b2': {\n",
    "            'b2a': 6\n",
    "        }\n",
    "    }\n",
    "}\n",
    "\n",
    "total_pairs = count_key_value_pairs(nested_dict)\n",
    "print(\"Total number of key-value pairs in the nested dictionary:\", total_pairs)"
   ]
  },
  {
   "cell_type": "markdown",
   "id": "7c2d2fd1",
   "metadata": {},
   "source": [
    "89. Nested Dictionary Update: Given a nested dictionary of employee details, write a Python program to update an employee’s salary based on their employee ID."
   ]
  },
  {
   "cell_type": "code",
   "execution_count": 96,
   "id": "01ac7c8a",
   "metadata": {},
   "outputs": [
    {
     "name": "stdout",
     "output_type": "stream",
     "text": [
      "Enter employee ID: 103\n",
      "Enter new salary: 67000\n",
      "Employee salary updated successfully.\n",
      "Updated employee details: {'101': {'name': 'Alice', 'salary': 50000}, '102': {'name': 'Bob', 'salary': 60000}, '103': {'name': 'Charlie', 'salary': 67000.0}}\n"
     ]
    }
   ],
   "source": [
    "def update_employee_salary(employee_details, employee_id, new_salary):\n",
    "    if employee_id in employee_details:\n",
    "        employee_details[employee_id]['salary'] = new_salary\n",
    "        print(\"Employee salary updated successfully.\")\n",
    "    else:\n",
    "        print(\"Employee with ID\", employee_id, \"not found.\")\n",
    "\n",
    "# Example usage:\n",
    "employee_details = {\n",
    "    '101': {'name': 'Alice', 'salary': 50000},\n",
    "    '102': {'name': 'Bob', 'salary': 60000},\n",
    "    '103': {'name': 'Charlie', 'salary': 70000}\n",
    "}\n",
    "\n",
    "employee_id = input(\"Enter employee ID: \")\n",
    "new_salary = float(input(\"Enter new salary: \"))\n",
    "\n",
    "update_employee_salary(employee_details, employee_id, new_salary)\n",
    "print(\"Updated employee details:\", employee_details)"
   ]
  },
  {
   "cell_type": "markdown",
   "id": "39e9f414",
   "metadata": {},
   "source": [
    "90. Nested Dictionary Sorting: Given a nested dictionary containing product details (product name, price, and quantity), write a Python program to sort the products based on their prices in ascending order."
   ]
  },
  {
   "cell_type": "code",
   "execution_count": 97,
   "id": "1d26d126",
   "metadata": {},
   "outputs": [
    {
     "name": "stdout",
     "output_type": "stream",
     "text": [
      "Products sorted by price in ascending order:\n",
      "Product ID: product2, Name: Product B, Price: 30, Quantity: 15\n",
      "Product ID: product3, Name: Product C, Price: 40, Quantity: 20\n",
      "Product ID: product1, Name: Product A, Price: 50, Quantity: 10\n"
     ]
    }
   ],
   "source": [
    "def sort_products_by_price(product_details):\n",
    "    sorted_products = sorted(product_details.items(), key=lambda x: x[1]['price'])\n",
    "    return dict(sorted_products)\n",
    "\n",
    "# Example usage:\n",
    "product_details = {\n",
    "    'product1': {'name': 'Product A', 'price': 50, 'quantity': 10},\n",
    "    'product2': {'name': 'Product B', 'price': 30, 'quantity': 15},\n",
    "    'product3': {'name': 'Product C', 'price': 40, 'quantity': 20}\n",
    "}\n",
    "\n",
    "sorted_products = sort_products_by_price(product_details)\n",
    "print(\"Products sorted by price in ascending order:\")\n",
    "for product_id, details in sorted_products.items():\n",
    "    print(f\"Product ID: {product_id}, Name: {details['name']}, Price: {details['price']}, Quantity: {details['quantity']}\")"
   ]
  },
  {
   "cell_type": "markdown",
   "id": "1a5be5c2",
   "metadata": {},
   "source": [
    "91. Nested Dictionary Key Search: Write a Python program that takes a key as input and searches for it in a nested dictionary. If found, print the corresponding value, otherwise, print “Key Not Found.”"
   ]
  },
  {
   "cell_type": "code",
   "execution_count": 98,
   "id": "0aeba744",
   "metadata": {},
   "outputs": [
    {
     "name": "stdout",
     "output_type": "stream",
     "text": [
      "Enter the key to search for: d\n",
      "Value corresponding to key: {'e': 2}\n"
     ]
    }
   ],
   "source": [
    "def search_nested_dict(nested_dict, key):\n",
    "    for k, v in nested_dict.items():\n",
    "        if k == key:\n",
    "            return v\n",
    "        elif isinstance(v, dict):\n",
    "            result = search_nested_dict(v, key)\n",
    "            if result is not None:\n",
    "                return result\n",
    "    return None\n",
    "\n",
    "# Example usage:\n",
    "nested_dict = {\n",
    "    'a': {'b': {'c': 1}},\n",
    "    'd': {'e': 2},\n",
    "    'f': {'g': {'h': 3}}\n",
    "}\n",
    "\n",
    "search_key = input(\"Enter the key to search for: \")\n",
    "result = search_nested_dict(nested_dict, search_key)\n",
    "\n",
    "if result is not None:\n",
    "    print(\"Value corresponding to key:\", result)\n",
    "else:\n",
    "    print(\"Key Not Found.\")"
   ]
  },
  {
   "cell_type": "markdown",
   "id": "db6bbe86",
   "metadata": {},
   "source": [
    "# Break & Continue: "
   ]
  },
  {
   "cell_type": "markdown",
   "id": "1e397c25",
   "metadata": {},
   "source": [
    "92. Prime Number Checker: Write a Python program that takes a number as input and determines if it is a prime number or not. Use a for loop to check for factors. If a factor is found, break out of the loop."
   ]
  },
  {
   "cell_type": "code",
   "execution_count": 99,
   "id": "50f1a65e",
   "metadata": {},
   "outputs": [
    {
     "name": "stdout",
     "output_type": "stream",
     "text": [
      "Enter a number: 17\n",
      "17 is a prime number.\n"
     ]
    }
   ],
   "source": [
    "def is_prime(number):\n",
    "    if number <= 1:\n",
    "        return False\n",
    "    for i in range(2, int(number**0.5) + 1):\n",
    "        if number % i == 0:\n",
    "            return False\n",
    "    return True\n",
    "\n",
    "# Example usage:\n",
    "num = int(input(\"Enter a number: \"))\n",
    "\n",
    "if is_prime(num):\n",
    "    print(num, \"is a prime number.\")\n",
    "else:\n",
    "    print(num, \"is not a prime number.\")"
   ]
  },
  {
   "cell_type": "markdown",
   "id": "d92608ba",
   "metadata": {},
   "source": [
    "93. Even Number Printer: Write a Python program to print all even numbers from 1 to 20. Use a for loop and continue to skip odd numbers."
   ]
  },
  {
   "cell_type": "code",
   "execution_count": 100,
   "id": "be3df40b",
   "metadata": {},
   "outputs": [
    {
     "name": "stdout",
     "output_type": "stream",
     "text": [
      "2\n",
      "4\n",
      "6\n",
      "8\n",
      "10\n",
      "12\n",
      "14\n",
      "16\n",
      "18\n",
      "20\n"
     ]
    }
   ],
   "source": [
    "for num in range(1, 21):\n",
    "    if num % 2 != 0:  # Skip odd numbers\n",
    "        continue\n",
    "    print(num)"
   ]
  },
  {
   "cell_type": "markdown",
   "id": "23088488",
   "metadata": {},
   "source": [
    "94. Password Validator: Write a Python program that takes a password as input and checks if it meets the following criteria: at least 8 characters long, contains both uppercase and lowercase letters, and has at least one digit. If the password is valid, print “Password accepted.” If not, use continue to prompt the user to enter a valid password."
   ]
  },
  {
   "cell_type": "code",
   "execution_count": 101,
   "id": "0d241cc7",
   "metadata": {},
   "outputs": [
    {
     "name": "stdout",
     "output_type": "stream",
     "text": [
      "Enter your password: 13129$atick\n",
      "Password must contain at least one uppercase letter. Please try again.\n",
      "Enter your password: 13129$Atick\n",
      "Password accepted.\n"
     ]
    }
   ],
   "source": [
    "while True:\n",
    "    password = input(\"Enter your password: \")\n",
    "\n",
    "    if len(password) < 8:\n",
    "        print(\"Password must be at least 8 characters long. Please try again.\")\n",
    "        continue\n",
    "\n",
    "    if not any(char.isupper() for char in password):\n",
    "        print(\"Password must contain at least one uppercase letter. Please try again.\")\n",
    "        continue\n",
    "\n",
    "    if not any(char.islower() for char in password):\n",
    "        print(\"Password must contain at least one lowercase letter. Please try again.\")\n",
    "        continue\n",
    "\n",
    "    if not any(char.isdigit() for char in password):\n",
    "        print(\"Password must contain at least one digit. Please try again.\")\n",
    "        continue\n",
    "\n",
    "    print(\"Password accepted.\")\n",
    "    break"
   ]
  },
  {
   "cell_type": "markdown",
   "id": "2f7ceae7",
   "metadata": {},
   "source": [
    "95. Divisible by 3 or 5: Write a Python program to print all numbers from 1 to 50 that are divisible by either 3 or 5. Use a for loop and continue to skip numbers that are not divisible by either 3 or 5."
   ]
  },
  {
   "cell_type": "code",
   "execution_count": 102,
   "id": "1105160f",
   "metadata": {},
   "outputs": [
    {
     "name": "stdout",
     "output_type": "stream",
     "text": [
      "3\n",
      "5\n",
      "6\n",
      "9\n",
      "10\n",
      "12\n",
      "15\n",
      "18\n",
      "20\n",
      "21\n",
      "24\n",
      "25\n",
      "27\n",
      "30\n",
      "33\n",
      "35\n",
      "36\n",
      "39\n",
      "40\n",
      "42\n",
      "45\n",
      "48\n",
      "50\n"
     ]
    }
   ],
   "source": [
    "for num in range(1, 51):\n",
    "    if num % 3 != 0 and num % 5 != 0:  # Skip numbers not divisible by 3 or 5\n",
    "        continue\n",
    "    print(num)"
   ]
  },
  {
   "cell_type": "markdown",
   "id": "c257cca9",
   "metadata": {},
   "source": [
    "96. Positive Number Sum: Write a Python program that takes positive numbers as input until a negative number is entered. Then, calculate and print the sum of all positive numbers entered. Use a while loop and break to exit the loop when a negative number is encountered."
   ]
  },
  {
   "cell_type": "code",
   "execution_count": 103,
   "id": "a791b63b",
   "metadata": {},
   "outputs": [
    {
     "name": "stdout",
     "output_type": "stream",
     "text": [
      "Enter a positive number (or a negative number to exit): 2\n",
      "Enter a positive number (or a negative number to exit): 4\n",
      "Enter a positive number (or a negative number to exit): 7\n",
      "Enter a positive number (or a negative number to exit): 5\n",
      "Enter a positive number (or a negative number to exit): -7\n",
      "Sum of all positive numbers entered: 18.0\n"
     ]
    }
   ],
   "source": [
    "total = 0\n",
    "\n",
    "while True:\n",
    "    num = float(input(\"Enter a positive number (or a negative number to exit): \"))\n",
    "    \n",
    "    if num < 0:\n",
    "        break\n",
    "    \n",
    "    total += num\n",
    "\n",
    "print(\"Sum of all positive numbers entered:\", total)"
   ]
  },
  {
   "cell_type": "markdown",
   "id": "601344f2",
   "metadata": {},
   "source": [
    "97. Word Palindrome Checker: Write a Python program that takes a word as input and checks if it is a palindrome (reads the same forwards and backward). Use continue to skip checking the word if its length is less than 3 characters."
   ]
  },
  {
   "cell_type": "code",
   "execution_count": 104,
   "id": "05c6c663",
   "metadata": {},
   "outputs": [
    {
     "name": "stdout",
     "output_type": "stream",
     "text": [
      "Enter a word (or 'quit' to exit): mom\n",
      "Yes, 'mom' is a palindrome.\n",
      "Enter a word (or 'quit' to exit): hello\n",
      "No, 'hello' is not a palindrome.\n",
      "Enter a word (or 'quit' to exit): quit\n"
     ]
    }
   ],
   "source": [
    "while True:\n",
    "    word = input(\"Enter a word (or 'quit' to exit): \")\n",
    "\n",
    "    if word == 'quit':\n",
    "        break\n",
    "\n",
    "    if len(word) < 3:\n",
    "        print(\"Word must have at least 3 characters. Please try again.\")\n",
    "        continue\n",
    "\n",
    "    if word == word[::-1]:\n",
    "        print(\"Yes, '{}' is a palindrome.\".format(word))\n",
    "    else:\n",
    "        print(\"No, '{}' is not a palindrome.\".format(word))"
   ]
  },
  {
   "cell_type": "markdown",
   "id": "af4fd652",
   "metadata": {},
   "source": [
    "98. Odd Number Finder: Write a Python program to find the first odd number from a list of integers. Use a for loop and break to stop the loop when the first odd number is found."
   ]
  },
  {
   "cell_type": "code",
   "execution_count": 105,
   "id": "844e0cda",
   "metadata": {},
   "outputs": [
    {
     "name": "stdout",
     "output_type": "stream",
     "text": [
      "The first odd number is: 7\n"
     ]
    }
   ],
   "source": [
    "numbers = [2, 4, 6, 7, 8, 9, 10]\n",
    "\n",
    "for num in numbers:\n",
    "    if num % 2 != 0:  # Check if number is odd\n",
    "        print(\"The first odd number is:\", num)\n",
    "        break"
   ]
  },
  {
   "cell_type": "markdown",
   "id": "690111ff",
   "metadata": {},
   "source": [
    "99. Number Guessing Game: Write a Python program that generates a random number between 1 and 100 and lets the user guess the number. Use a while loop, break when the correct number is guessed, and continue to keep prompting the user until they guess correctly."
   ]
  },
  {
   "cell_type": "code",
   "execution_count": 106,
   "id": "94dbdd6b",
   "metadata": {},
   "outputs": [
    {
     "name": "stdout",
     "output_type": "stream",
     "text": [
      "Guess the number between 1 and 100: 55\n",
      "Try guessing lower.\n",
      "Guess the number between 1 and 100: 40\n",
      "Try guessing lower.\n",
      "Guess the number between 1 and 100: 30\n",
      "Try guessing lower.\n",
      "Guess the number between 1 and 100: 20\n",
      "Try guessing lower.\n",
      "Guess the number between 1 and 100: 10\n",
      "Try guessing lower.\n",
      "Guess the number between 1 and 100: 5\n",
      "Try guessing higher.\n",
      "Guess the number between 1 and 100: 7\n",
      "Congratulations! You guessed the correct number: 7\n"
     ]
    }
   ],
   "source": [
    "import random\n",
    "\n",
    "# Generate a random number between 1 and 100\n",
    "random_number = random.randint(1, 100)\n",
    "\n",
    "while True:\n",
    "    # Prompt the user to guess the number\n",
    "    guess = int(input(\"Guess the number between 1 and 100: \"))\n",
    "    \n",
    "    # Check if the guess is correct\n",
    "    if guess == random_number:\n",
    "        print(\"Congratulations! You guessed the correct number:\", random_number)\n",
    "        break\n",
    "    elif guess < random_number:\n",
    "        print(\"Try guessing higher.\")\n",
    "    else:\n",
    "        print(\"Try guessing lower.\")"
   ]
  },
  {
   "cell_type": "markdown",
   "id": "edb457dd",
   "metadata": {},
   "source": [
    "100. Vowel Counter: Write a Python program that takes a string as input and counts the number of vowels (a, e, i, o, u) in it. Use a for loop and continue to skip counting non-vowel characters."
   ]
  },
  {
   "cell_type": "code",
   "execution_count": 107,
   "id": "ce2c3e21",
   "metadata": {},
   "outputs": [
    {
     "name": "stdout",
     "output_type": "stream",
     "text": [
      "Enter a string: atick\n",
      "Number of vowels in the string: 2\n"
     ]
    }
   ],
   "source": [
    "def count_vowels(input_string):\n",
    "    vowel_count = 0\n",
    "    vowels = 'aeiou'\n",
    "\n",
    "    for char in input_string:\n",
    "        if char.lower() not in vowels:  # Skip non-vowel characters\n",
    "            continue\n",
    "        vowel_count += 1\n",
    "\n",
    "    return vowel_count\n",
    "\n",
    "# Example usage:\n",
    "input_string = input(\"Enter a string: \")\n",
    "print(\"Number of vowels in the string:\", count_vowels(input_string))"
   ]
  },
  {
   "cell_type": "markdown",
   "id": "d3249e6b",
   "metadata": {},
   "source": [
    "101. Unique Characters: Write a Python program that takes a string as input and checks if it contains all unique characters (no character repeats). Use a for loop and break when a character repeats."
   ]
  },
  {
   "cell_type": "code",
   "execution_count": 108,
   "id": "6a5e9d50",
   "metadata": {},
   "outputs": [
    {
     "name": "stdout",
     "output_type": "stream",
     "text": [
      "Enter a string: abrar\n",
      "The string does not contain all unique characters.\n"
     ]
    }
   ],
   "source": [
    "def has_unique_characters(input_string):\n",
    "    seen_characters = set()\n",
    "\n",
    "    for char in input_string:\n",
    "        if char in seen_characters:\n",
    "            return False\n",
    "        seen_characters.add(char)\n",
    "\n",
    "    return True\n",
    "\n",
    "# Example usage:\n",
    "input_string = input(\"Enter a string: \")\n",
    "if has_unique_characters(input_string):\n",
    "    print(\"The string contains all unique characters.\")\n",
    "else:\n",
    "    print(\"The string does not contain all unique characters.\")"
   ]
  },
  {
   "cell_type": "markdown",
   "id": "7eb2540a",
   "metadata": {},
   "source": [
    "# Functions Problems:"
   ]
  },
  {
   "cell_type": "markdown",
   "id": "7f3db12c",
   "metadata": {},
   "source": [
    "102. Factorial Calculator: Write a Python function called factorial that takes an integer as input and returns its factorial. Test the function with different values."
   ]
  },
  {
   "cell_type": "code",
   "execution_count": 109,
   "id": "987fa514",
   "metadata": {},
   "outputs": [
    {
     "name": "stdout",
     "output_type": "stream",
     "text": [
      "The factorial of 5 is: 120\n",
      "The factorial of 0 is: 1\n",
      "The factorial of 1 is: 1\n",
      "The factorial of 10 is: 3628800\n"
     ]
    }
   ],
   "source": [
    "def factorial(n):\n",
    "    if n == 0:\n",
    "        return 1\n",
    "    else:\n",
    "        return n * factorial(n - 1)\n",
    "\n",
    "# Test the function with different values\n",
    "test_values = [5, 0, 1, 10]\n",
    "\n",
    "for value in test_values:\n",
    "    print(f\"The factorial of {value} is:\", factorial(value))"
   ]
  },
  {
   "cell_type": "markdown",
   "id": "467b7603",
   "metadata": {},
   "source": [
    "103. Palindrome Checker: Write a Python function called is_palindrome that takes a string as input and returns True if it is a palindrome and False otherwise. Test the function with different words."
   ]
  },
  {
   "cell_type": "code",
   "execution_count": 110,
   "id": "9a6b30fb",
   "metadata": {},
   "outputs": [
    {
     "name": "stdout",
     "output_type": "stream",
     "text": [
      "'radar' is a palindrome.\n",
      "'level' is a palindrome.\n",
      "'python' is not a palindrome.\n",
      "'racecar' is a palindrome.\n",
      "'Palindrome' is not a palindrome.\n",
      "'hello' is not a palindrome.\n"
     ]
    }
   ],
   "source": [
    "def is_palindrome(word):\n",
    "    # Remove spaces and convert to lowercase for case-insensitive comparison\n",
    "    cleaned_word = word.replace(\" \", \"\").lower()\n",
    "    \n",
    "    # Check if the cleaned word is equal to its reverse\n",
    "    return cleaned_word == cleaned_word[::-1]\n",
    "\n",
    "# Test the function with different words\n",
    "test_words = [\"radar\", \"level\", \"python\", \"racecar\", \"Palindrome\", \"hello\"]\n",
    "\n",
    "for word in test_words:\n",
    "    if is_palindrome(word):\n",
    "        print(f\"'{word}' is a palindrome.\")\n",
    "    else:\n",
    "        print(f\"'{word}' is not a palindrome.\")"
   ]
  },
  {
   "cell_type": "markdown",
   "id": "891c460c",
   "metadata": {},
   "source": [
    "104. Even or Odd Checker: Write a Python function called even_or_odd that takes an integer as input and returns “Even” if the number is even and “Odd” if the number is odd. Test the function with different numbers."
   ]
  },
  {
   "cell_type": "code",
   "execution_count": 111,
   "id": "b0b632ce",
   "metadata": {},
   "outputs": [
    {
     "name": "stdout",
     "output_type": "stream",
     "text": [
      "5 is Odd\n",
      "10 is Even\n",
      "17 is Odd\n",
      "24 is Even\n",
      "0 is Even\n",
      "-7 is Odd\n"
     ]
    }
   ],
   "source": [
    "def even_or_odd(number):\n",
    "    if number % 2 == 0:\n",
    "        return \"Even\"\n",
    "    else:\n",
    "        return \"Odd\"\n",
    "\n",
    "# Test the function with different numbers\n",
    "test_numbers = [5, 10, 17, 24, 0, -7]\n",
    "\n",
    "for number in test_numbers:\n",
    "    print(f\"{number} is {even_or_odd(number)}\")"
   ]
  },
  {
   "cell_type": "markdown",
   "id": "1d1301cb",
   "metadata": {},
   "source": [
    "105. List Sum Calculator: Write a Python function called list_sum that takes a list of integers as input and returns the sum of all elements in the list. Test the function with different lists."
   ]
  },
  {
   "cell_type": "code",
   "execution_count": 112,
   "id": "bad368ef",
   "metadata": {},
   "outputs": [
    {
     "name": "stdout",
     "output_type": "stream",
     "text": [
      "The sum of [1, 2, 3, 4, 5] is: 15\n",
      "The sum of [10, 20, 30, 40, 50] is: 150\n",
      "The sum of [-1, -2, -3, -4, -5] is: -15\n",
      "The sum of [] is: 0\n",
      "The sum of [7] is: 7\n",
      "The sum of [-10, 5, 8, -3, 2] is: 2\n"
     ]
    }
   ],
   "source": [
    "def list_sum(input_list):\n",
    "    return sum(input_list)\n",
    "\n",
    "# Test the function with different lists\n",
    "test_lists = [\n",
    "    [1, 2, 3, 4, 5],\n",
    "    [10, 20, 30, 40, 50],\n",
    "    [-1, -2, -3, -4, -5],\n",
    "    [],\n",
    "    [7],\n",
    "    [-10, 5, 8, -3, 2]\n",
    "]\n",
    "\n",
    "for lst in test_lists:\n",
    "    print(f\"The sum of {lst} is:\", list_sum(lst))"
   ]
  },
  {
   "cell_type": "markdown",
   "id": "a164f2dd",
   "metadata": {},
   "source": [
    "106. Greatest Common Divisor (GCD) Calculator: Write a Python function called gcd that takes two integers as input and returns their greatest common divisor. Test the function with different pairs of numbers."
   ]
  },
  {
   "cell_type": "code",
   "execution_count": 113,
   "id": "adb6a8fa",
   "metadata": {},
   "outputs": [
    {
     "name": "stdout",
     "output_type": "stream",
     "text": [
      "The GCD of 12 and 18 is: 6\n",
      "The GCD of 15 and 25 is: 5\n",
      "The GCD of 60 and 48 is: 12\n",
      "The GCD of 17 and 23 is: 1\n",
      "The GCD of 48 and 72 is: 24\n"
     ]
    }
   ],
   "source": [
    "def gcd(a, b):\n",
    "    while b:\n",
    "        a, b = b, a % b\n",
    "    return a\n",
    "\n",
    "# Test the function with different pairs of numbers\n",
    "test_pairs = [\n",
    "    (12, 18),\n",
    "    (15, 25),\n",
    "    (60, 48),\n",
    "    (17, 23),\n",
    "    (48, 72)\n",
    "]\n",
    "\n",
    "for pair in test_pairs:\n",
    "    a, b = pair\n",
    "    print(f\"The GCD of {a} and {b} is:\", gcd(a, b))"
   ]
  },
  {
   "cell_type": "markdown",
   "id": "b6321496",
   "metadata": {},
   "source": [
    "107. Leap Year Checker: Write a Python function called is_leap_year that takes a year as input and returns True if it is a leap year and False otherwise. Test the function with different years."
   ]
  },
  {
   "cell_type": "code",
   "execution_count": 114,
   "id": "660eb73e",
   "metadata": {},
   "outputs": [
    {
     "name": "stdout",
     "output_type": "stream",
     "text": [
      "2000 is a leap year.\n",
      "2004 is a leap year.\n",
      "2100 is not a leap year.\n",
      "2021 is not a leap year.\n",
      "2400 is a leap year.\n",
      "1800 is not a leap year.\n"
     ]
    }
   ],
   "source": [
    "def is_leap_year(year):\n",
    "    if (year % 4 == 0 and year % 100 != 0) or (year % 400 == 0):\n",
    "        return True\n",
    "    else:\n",
    "        return False\n",
    "\n",
    "# Test the function with different years\n",
    "test_years = [2000, 2004, 2100, 2021, 2400, 1800]\n",
    "\n",
    "for year in test_years:\n",
    "    if is_leap_year(year):\n",
    "        print(f\"{year} is a leap year.\")\n",
    "    else:\n",
    "        print(f\"{year} is not a leap year.\")"
   ]
  },
  {
   "cell_type": "markdown",
   "id": "823786c5",
   "metadata": {},
   "source": [
    "# Nested Functions Problems:"
   ]
  },
  {
   "cell_type": "markdown",
   "id": "279d9487",
   "metadata": {},
   "source": [
    "108. Math Operations: Write a Python function called math_operations that takes three numbers and a string representing an operation (‘add’, ‘subtract’, ‘multiply’, or ‘divide’). The function should return the result of the specified operation on the three numbers. Implement the math operations as nested functions."
   ]
  },
  {
   "cell_type": "code",
   "execution_count": 115,
   "id": "e1197a16",
   "metadata": {},
   "outputs": [
    {
     "name": "stdout",
     "output_type": "stream",
     "text": [
      "Addition result: 17\n",
      "Subtraction result: 3\n",
      "Multiplication result: 100\n",
      "Division result: 1.0\n",
      "Invalid operation: Invalid operation\n"
     ]
    }
   ],
   "source": [
    "def math_operations(num1, num2, num3, operation):\n",
    "    def add(a, b, c):\n",
    "        return a + b + c\n",
    "\n",
    "    def subtract(a, b, c):\n",
    "        return a - b - c\n",
    "\n",
    "    def multiply(a, b, c):\n",
    "        return a * b * c\n",
    "\n",
    "    def divide(a, b, c):\n",
    "        if b == 0 or c == 0:\n",
    "            return \"Cannot divide by zero\"\n",
    "        return a / b / c\n",
    "\n",
    "    if operation == 'add':\n",
    "        return add(num1, num2, num3)\n",
    "    elif operation == 'subtract':\n",
    "        return subtract(num1, num2, num3)\n",
    "    elif operation == 'multiply':\n",
    "        return multiply(num1, num2, num3)\n",
    "    elif operation == 'divide':\n",
    "        return divide(num1, num2, num3)\n",
    "    else:\n",
    "        return \"Invalid operation\"\n",
    "\n",
    "# Test the function with different inputs\n",
    "num1, num2, num3 = 10, 5, 2\n",
    "\n",
    "print(\"Addition result:\", math_operations(num1, num2, num3, 'add'))\n",
    "print(\"Subtraction result:\", math_operations(num1, num2, num3, 'subtract'))\n",
    "print(\"Multiplication result:\", math_operations(num1, num2, num3, 'multiply'))\n",
    "print(\"Division result:\", math_operations(num1, num2, num3, 'divide'))\n",
    "print(\"Invalid operation:\", math_operations(num1, num2, num3, 'power'))"
   ]
  },
  {
   "cell_type": "markdown",
   "id": "1bab5c4b",
   "metadata": {},
   "source": [
    "109. Greeting Generator: Write a Python function called greeting_generator that takes a name as input and returns a greeting message using nested functions. The greeting message should be customizable (e.g., “Hello, {name}! How are you today?”)."
   ]
  },
  {
   "cell_type": "code",
   "execution_count": 116,
   "id": "ffdca580",
   "metadata": {},
   "outputs": [
    {
     "name": "stdout",
     "output_type": "stream",
     "text": [
      "Enter your name: atick\n",
      "Hello, atick! How are you today?\n"
     ]
    }
   ],
   "source": [
    "def greeting_generator(name):\n",
    "    def generate_greeting():\n",
    "        return f\"Hello, {name}! How are you today?\"\n",
    "\n",
    "    return generate_greeting()\n",
    "\n",
    "# Test the function with different inputs\n",
    "name = input(\"Enter your name: \")\n",
    "print(greeting_generator(name))"
   ]
  },
  {
   "cell_type": "markdown",
   "id": "627a264e",
   "metadata": {},
   "source": [
    "110. Temperature Converter: Write a Python function called temperature_converter that takes a temperature value and a string representing the scale (‘C’ for Celsius or ‘F’ for Fahrenheit) as input. The function should convert the temperature from one scale to the other using nested functions and return the converted value."
   ]
  },
  {
   "cell_type": "code",
   "execution_count": 117,
   "id": "b8f8445f",
   "metadata": {},
   "outputs": [
    {
     "name": "stdout",
     "output_type": "stream",
     "text": [
      "Enter the temperature value: 30\n",
      "Enter the scale ('C' for Celsius, 'F' for Fahrenheit): C\n",
      "Converted temperature: 86.0\n"
     ]
    }
   ],
   "source": [
    "def temperature_converter(temperature, scale):\n",
    "    def celsius_to_fahrenheit(temp):\n",
    "        return (temp * 9/5) + 32\n",
    "\n",
    "    def fahrenheit_to_celsius(temp):\n",
    "        return (temp - 32) * 5/9\n",
    "\n",
    "    if scale.upper() == 'C':\n",
    "        return celsius_to_fahrenheit(temperature)\n",
    "    elif scale.upper() == 'F':\n",
    "        return fahrenheit_to_celsius(temperature)\n",
    "    else:\n",
    "        return \"Invalid scale\"\n",
    "\n",
    "# Test the function with different inputs\n",
    "temperature = float(input(\"Enter the temperature value: \"))\n",
    "scale = input(\"Enter the scale ('C' for Celsius, 'F' for Fahrenheit): \")\n",
    "\n",
    "converted_temperature = temperature_converter(temperature, scale)\n",
    "print(\"Converted temperature:\", converted_temperature)"
   ]
  },
  {
   "cell_type": "markdown",
   "id": "51a34fe3",
   "metadata": {},
   "source": [
    "# Recursion:"
   ]
  },
  {
   "cell_type": "markdown",
   "id": "b0f60040",
   "metadata": {},
   "source": [
    "111. Factorial Calculation: Write a recursive Python function called factorial that takes a non-negative integer as input and returns its factorial."
   ]
  },
  {
   "cell_type": "code",
   "execution_count": 118,
   "id": "b535fa32",
   "metadata": {},
   "outputs": [
    {
     "name": "stdout",
     "output_type": "stream",
     "text": [
      "Factorial of 5: 120\n",
      "Factorial of 0: 1\n",
      "Factorial of 10: 3628800\n"
     ]
    }
   ],
   "source": [
    "def factorial(n):\n",
    "    if n == 0:\n",
    "        return 1\n",
    "    else:\n",
    "        return n * factorial(n - 1)\n",
    "\n",
    "# Test the function with different inputs\n",
    "print(\"Factorial of 5:\", factorial(5))\n",
    "print(\"Factorial of 0:\", factorial(0))\n",
    "print(\"Factorial of 10:\", factorial(10))"
   ]
  },
  {
   "cell_type": "markdown",
   "id": "411d11a8",
   "metadata": {},
   "source": [
    "112. Fibonacci Series: Write a recursive Python function called Fibonacci that takes an integer N as input and returns the Nth number in the Fibonacci series. The Fibonacci series is defined as follows: F(0) = 0, F(1) = 1, and F(n) = F(n-1) + F(n-2) for n > 1."
   ]
  },
  {
   "cell_type": "code",
   "execution_count": 119,
   "id": "27cec36e",
   "metadata": {},
   "outputs": [
    {
     "name": "stdout",
     "output_type": "stream",
     "text": [
      "Fibonacci(0): 0\n",
      "Fibonacci(1): 1\n",
      "Fibonacci(2): 1\n",
      "Fibonacci(3): 2\n",
      "Fibonacci(4): 3\n",
      "Fibonacci(5): 5\n",
      "Fibonacci(6): 8\n",
      "Fibonacci(7): 13\n",
      "Fibonacci(8): 21\n",
      "Fibonacci(9): 34\n"
     ]
    }
   ],
   "source": [
    "def Fibonacci(n):\n",
    "    if n <= 1:\n",
    "        return n\n",
    "    else:\n",
    "        return Fibonacci(n - 1) + Fibonacci(n - 2)\n",
    "\n",
    "# Test the function with different inputs\n",
    "for i in range(10):\n",
    "    print(f\"Fibonacci({i}):\", Fibonacci(i))"
   ]
  },
  {
   "cell_type": "markdown",
   "id": "076772b2",
   "metadata": {},
   "source": [
    "113. The sum of Digits: Write a recursive Python function called sum_of_digits that takes an integer as input and returns the sum of its digits."
   ]
  },
  {
   "cell_type": "code",
   "execution_count": 120,
   "id": "6cd35228",
   "metadata": {},
   "outputs": [
    {
     "name": "stdout",
     "output_type": "stream",
     "text": [
      "Sum of digits of 123: 6\n",
      "Sum of digits of 9876: 30\n",
      "Sum of digits of 54321: 15\n"
     ]
    }
   ],
   "source": [
    "def sum_of_digits(n):\n",
    "    if n < 10:\n",
    "        return n\n",
    "    else:\n",
    "        return n % 10 + sum_of_digits(n // 10)\n",
    "\n",
    "# Test the function with different inputs\n",
    "print(\"Sum of digits of 123:\", sum_of_digits(123))\n",
    "print(\"Sum of digits of 9876:\", sum_of_digits(9876))\n",
    "print(\"Sum of digits of 54321:\", sum_of_digits(54321))"
   ]
  },
  {
   "cell_type": "markdown",
   "id": "563df9d0",
   "metadata": {},
   "source": [
    "114. Binary Search: Write a recursive Python function called binary_search that takes a sorted list and a target value as input and returns the index of the target value in the list using binary search. If the target value is not in the list, return -1."
   ]
  },
  {
   "cell_type": "code",
   "execution_count": 121,
   "id": "758fc8ab",
   "metadata": {},
   "outputs": [
    {
     "name": "stdout",
     "output_type": "stream",
     "text": [
      "Index of target in the list: 4\n"
     ]
    }
   ],
   "source": [
    "def binary_search(arr, target, left=0, right=None):\n",
    "    if right is None:\n",
    "        right = len(arr) - 1\n",
    "\n",
    "    if left > right:\n",
    "        return -1\n",
    "\n",
    "    mid = (left + right) // 2\n",
    "\n",
    "    if arr[mid] == target:\n",
    "        return mid\n",
    "    elif arr[mid] < target:\n",
    "        return binary_search(arr, target, mid + 1, right)\n",
    "    else:\n",
    "        return binary_search(arr, target, left, mid - 1)\n",
    "\n",
    "# Test the function with different inputs\n",
    "arr = [1, 2, 3, 4, 5, 6, 7, 8, 9, 10]\n",
    "target = 5\n",
    "print(\"Index of target in the list:\", binary_search(arr, target))"
   ]
  },
  {
   "cell_type": "markdown",
   "id": "dfde2b99",
   "metadata": {},
   "source": [
    "115. Power Calculation: Write a recursive Python function called power that takes two positive integers, base and exponent, as input and returns the value of base raised to the exponent."
   ]
  },
  {
   "cell_type": "code",
   "execution_count": 122,
   "id": "3c6587e4",
   "metadata": {},
   "outputs": [
    {
     "name": "stdout",
     "output_type": "stream",
     "text": [
      "2 raised to the power of 5: 32\n"
     ]
    }
   ],
   "source": [
    "def power(base, exponent):\n",
    "    if exponent == 0:\n",
    "        return 1\n",
    "    elif exponent == 1:\n",
    "        return base\n",
    "    else:\n",
    "        return base * power(base, exponent - 1)\n",
    "\n",
    "# Test the function with different inputs\n",
    "base = 2\n",
    "exponent = 5\n",
    "print(f\"{base} raised to the power of {exponent}:\", power(base, exponent))"
   ]
  },
  {
   "cell_type": "markdown",
   "id": "95b62143",
   "metadata": {},
   "source": [
    "# END"
   ]
  }
 ],
 "metadata": {
  "kernelspec": {
   "display_name": "Python 3 (ipykernel)",
   "language": "python",
   "name": "python3"
  },
  "language_info": {
   "codemirror_mode": {
    "name": "ipython",
    "version": 3
   },
   "file_extension": ".py",
   "mimetype": "text/x-python",
   "name": "python",
   "nbconvert_exporter": "python",
   "pygments_lexer": "ipython3",
   "version": "3.11.5"
  }
 },
 "nbformat": 4,
 "nbformat_minor": 5
}
